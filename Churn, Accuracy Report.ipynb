{
 "cells": [
  {
   "cell_type": "markdown",
   "metadata": {},
   "source": [
    "# Customer Churn Prediction 2020\n",
    "### Predict whether a customer will change telco provider"
   ]
  },
  {
   "cell_type": "code",
   "execution_count": 1,
   "metadata": {},
   "outputs": [],
   "source": [
    "import pandas as pd\n",
    "import numpy as np\n",
    "import matplotlib.pyplot as plt\n",
    "import seaborn as sns"
   ]
  },
  {
   "cell_type": "code",
   "execution_count": 2,
   "metadata": {},
   "outputs": [
    {
     "data": {
      "text/html": [
       "<div>\n",
       "<style scoped>\n",
       "    .dataframe tbody tr th:only-of-type {\n",
       "        vertical-align: middle;\n",
       "    }\n",
       "\n",
       "    .dataframe tbody tr th {\n",
       "        vertical-align: top;\n",
       "    }\n",
       "\n",
       "    .dataframe thead th {\n",
       "        text-align: right;\n",
       "    }\n",
       "</style>\n",
       "<table border=\"1\" class=\"dataframe\">\n",
       "  <thead>\n",
       "    <tr style=\"text-align: right;\">\n",
       "      <th></th>\n",
       "      <th>state</th>\n",
       "      <th>account_length</th>\n",
       "      <th>area_code</th>\n",
       "      <th>international_plan</th>\n",
       "      <th>voice_mail_plan</th>\n",
       "      <th>number_vmail_messages</th>\n",
       "      <th>total_day_minutes</th>\n",
       "      <th>total_day_calls</th>\n",
       "      <th>total_day_charge</th>\n",
       "      <th>total_eve_minutes</th>\n",
       "      <th>total_eve_calls</th>\n",
       "      <th>total_eve_charge</th>\n",
       "      <th>total_night_minutes</th>\n",
       "      <th>total_night_calls</th>\n",
       "      <th>total_night_charge</th>\n",
       "      <th>total_intl_minutes</th>\n",
       "      <th>total_intl_calls</th>\n",
       "      <th>total_intl_charge</th>\n",
       "      <th>number_customer_service_calls</th>\n",
       "      <th>churn</th>\n",
       "    </tr>\n",
       "  </thead>\n",
       "  <tbody>\n",
       "    <tr>\n",
       "      <th>0</th>\n",
       "      <td>OH</td>\n",
       "      <td>107</td>\n",
       "      <td>area_code_415</td>\n",
       "      <td>no</td>\n",
       "      <td>yes</td>\n",
       "      <td>26</td>\n",
       "      <td>161.6</td>\n",
       "      <td>123</td>\n",
       "      <td>27.47</td>\n",
       "      <td>195.5</td>\n",
       "      <td>103</td>\n",
       "      <td>16.62</td>\n",
       "      <td>254.4</td>\n",
       "      <td>103</td>\n",
       "      <td>11.45</td>\n",
       "      <td>13.7</td>\n",
       "      <td>3</td>\n",
       "      <td>3.70</td>\n",
       "      <td>1</td>\n",
       "      <td>no</td>\n",
       "    </tr>\n",
       "    <tr>\n",
       "      <th>1</th>\n",
       "      <td>NJ</td>\n",
       "      <td>137</td>\n",
       "      <td>area_code_415</td>\n",
       "      <td>no</td>\n",
       "      <td>no</td>\n",
       "      <td>0</td>\n",
       "      <td>243.4</td>\n",
       "      <td>114</td>\n",
       "      <td>41.38</td>\n",
       "      <td>121.2</td>\n",
       "      <td>110</td>\n",
       "      <td>10.30</td>\n",
       "      <td>162.6</td>\n",
       "      <td>104</td>\n",
       "      <td>7.32</td>\n",
       "      <td>12.2</td>\n",
       "      <td>5</td>\n",
       "      <td>3.29</td>\n",
       "      <td>0</td>\n",
       "      <td>no</td>\n",
       "    </tr>\n",
       "  </tbody>\n",
       "</table>\n",
       "</div>"
      ],
      "text/plain": [
       "  state  account_length      area_code international_plan voice_mail_plan  \\\n",
       "0    OH             107  area_code_415                 no             yes   \n",
       "1    NJ             137  area_code_415                 no              no   \n",
       "\n",
       "   number_vmail_messages  total_day_minutes  total_day_calls  \\\n",
       "0                     26              161.6              123   \n",
       "1                      0              243.4              114   \n",
       "\n",
       "   total_day_charge  total_eve_minutes  total_eve_calls  total_eve_charge  \\\n",
       "0             27.47              195.5              103             16.62   \n",
       "1             41.38              121.2              110             10.30   \n",
       "\n",
       "   total_night_minutes  total_night_calls  total_night_charge  \\\n",
       "0                254.4                103               11.45   \n",
       "1                162.6                104                7.32   \n",
       "\n",
       "   total_intl_minutes  total_intl_calls  total_intl_charge  \\\n",
       "0                13.7                 3               3.70   \n",
       "1                12.2                 5               3.29   \n",
       "\n",
       "   number_customer_service_calls churn  \n",
       "0                              1    no  \n",
       "1                              0    no  "
      ]
     },
     "execution_count": 2,
     "metadata": {},
     "output_type": "execute_result"
    }
   ],
   "source": [
    "df=pd.read_csv(\"churn.csv\")\n",
    "df.head(2)"
   ]
  },
  {
   "cell_type": "markdown",
   "metadata": {},
   "source": [
    "## Data Wrangling"
   ]
  },
  {
   "cell_type": "code",
   "execution_count": 3,
   "metadata": {},
   "outputs": [
    {
     "data": {
      "text/plain": [
       "state                            0\n",
       "account_length                   0\n",
       "area_code                        0\n",
       "international_plan               0\n",
       "voice_mail_plan                  0\n",
       "number_vmail_messages            0\n",
       "total_day_minutes                0\n",
       "total_day_calls                  0\n",
       "total_day_charge                 0\n",
       "total_eve_minutes                0\n",
       "total_eve_calls                  0\n",
       "total_eve_charge                 0\n",
       "total_night_minutes              0\n",
       "total_night_calls                0\n",
       "total_night_charge               0\n",
       "total_intl_minutes               0\n",
       "total_intl_calls                 0\n",
       "total_intl_charge                0\n",
       "number_customer_service_calls    0\n",
       "churn                            0\n",
       "dtype: int64"
      ]
     },
     "execution_count": 3,
     "metadata": {},
     "output_type": "execute_result"
    }
   ],
   "source": [
    "df.isnull().sum()  # No-null values found"
   ]
  },
  {
   "cell_type": "code",
   "execution_count": 4,
   "metadata": {},
   "outputs": [],
   "source": [
    "df[\"area_code\"] =df[\"area_code\"].map(lambda x: x[10:])"
   ]
  },
  {
   "cell_type": "code",
   "execution_count": 5,
   "metadata": {},
   "outputs": [
    {
     "data": {
      "text/html": [
       "<div>\n",
       "<style scoped>\n",
       "    .dataframe tbody tr th:only-of-type {\n",
       "        vertical-align: middle;\n",
       "    }\n",
       "\n",
       "    .dataframe tbody tr th {\n",
       "        vertical-align: top;\n",
       "    }\n",
       "\n",
       "    .dataframe thead th {\n",
       "        text-align: right;\n",
       "    }\n",
       "</style>\n",
       "<table border=\"1\" class=\"dataframe\">\n",
       "  <thead>\n",
       "    <tr style=\"text-align: right;\">\n",
       "      <th></th>\n",
       "      <th>state</th>\n",
       "      <th>account_length</th>\n",
       "      <th>area_code</th>\n",
       "      <th>international_plan</th>\n",
       "      <th>voice_mail_plan</th>\n",
       "      <th>number_vmail_messages</th>\n",
       "      <th>total_day_minutes</th>\n",
       "      <th>total_day_calls</th>\n",
       "      <th>total_day_charge</th>\n",
       "      <th>total_eve_minutes</th>\n",
       "      <th>total_eve_calls</th>\n",
       "      <th>total_eve_charge</th>\n",
       "      <th>total_night_minutes</th>\n",
       "      <th>total_night_calls</th>\n",
       "      <th>total_night_charge</th>\n",
       "      <th>total_intl_minutes</th>\n",
       "      <th>total_intl_calls</th>\n",
       "      <th>total_intl_charge</th>\n",
       "      <th>number_customer_service_calls</th>\n",
       "      <th>churn</th>\n",
       "    </tr>\n",
       "  </thead>\n",
       "  <tbody>\n",
       "    <tr>\n",
       "      <th>0</th>\n",
       "      <td>OH</td>\n",
       "      <td>107</td>\n",
       "      <td>415</td>\n",
       "      <td>no</td>\n",
       "      <td>yes</td>\n",
       "      <td>26</td>\n",
       "      <td>161.6</td>\n",
       "      <td>123</td>\n",
       "      <td>27.47</td>\n",
       "      <td>195.5</td>\n",
       "      <td>103</td>\n",
       "      <td>16.62</td>\n",
       "      <td>254.4</td>\n",
       "      <td>103</td>\n",
       "      <td>11.45</td>\n",
       "      <td>13.7</td>\n",
       "      <td>3</td>\n",
       "      <td>3.70</td>\n",
       "      <td>1</td>\n",
       "      <td>no</td>\n",
       "    </tr>\n",
       "    <tr>\n",
       "      <th>1</th>\n",
       "      <td>NJ</td>\n",
       "      <td>137</td>\n",
       "      <td>415</td>\n",
       "      <td>no</td>\n",
       "      <td>no</td>\n",
       "      <td>0</td>\n",
       "      <td>243.4</td>\n",
       "      <td>114</td>\n",
       "      <td>41.38</td>\n",
       "      <td>121.2</td>\n",
       "      <td>110</td>\n",
       "      <td>10.30</td>\n",
       "      <td>162.6</td>\n",
       "      <td>104</td>\n",
       "      <td>7.32</td>\n",
       "      <td>12.2</td>\n",
       "      <td>5</td>\n",
       "      <td>3.29</td>\n",
       "      <td>0</td>\n",
       "      <td>no</td>\n",
       "    </tr>\n",
       "  </tbody>\n",
       "</table>\n",
       "</div>"
      ],
      "text/plain": [
       "  state  account_length area_code international_plan voice_mail_plan  \\\n",
       "0    OH             107       415                 no             yes   \n",
       "1    NJ             137       415                 no              no   \n",
       "\n",
       "   number_vmail_messages  total_day_minutes  total_day_calls  \\\n",
       "0                     26              161.6              123   \n",
       "1                      0              243.4              114   \n",
       "\n",
       "   total_day_charge  total_eve_minutes  total_eve_calls  total_eve_charge  \\\n",
       "0             27.47              195.5              103             16.62   \n",
       "1             41.38              121.2              110             10.30   \n",
       "\n",
       "   total_night_minutes  total_night_calls  total_night_charge  \\\n",
       "0                254.4                103               11.45   \n",
       "1                162.6                104                7.32   \n",
       "\n",
       "   total_intl_minutes  total_intl_calls  total_intl_charge  \\\n",
       "0                13.7                 3               3.70   \n",
       "1                12.2                 5               3.29   \n",
       "\n",
       "   number_customer_service_calls churn  \n",
       "0                              1    no  \n",
       "1                              0    no  "
      ]
     },
     "execution_count": 5,
     "metadata": {},
     "output_type": "execute_result"
    }
   ],
   "source": [
    "df.head(2)"
   ]
  },
  {
   "cell_type": "code",
   "execution_count": 6,
   "metadata": {},
   "outputs": [],
   "source": [
    "def convert(x):\n",
    "    if x==\"yes\":\n",
    "        return 1\n",
    "    else:\n",
    "        return 0\n",
    "\n",
    "#converts yes/no to 1/0"
   ]
  },
  {
   "cell_type": "code",
   "execution_count": 7,
   "metadata": {},
   "outputs": [],
   "source": [
    "df[\"international_plan\"]=df[\"international_plan\"].apply(convert)"
   ]
  },
  {
   "cell_type": "code",
   "execution_count": 8,
   "metadata": {},
   "outputs": [],
   "source": [
    "df[\"voice_mail_plan\"]=df[\"voice_mail_plan\"].apply(convert)"
   ]
  },
  {
   "cell_type": "code",
   "execution_count": 9,
   "metadata": {},
   "outputs": [],
   "source": [
    "df[\"churn\"]=df[\"churn\"].apply(convert)"
   ]
  },
  {
   "cell_type": "code",
   "execution_count": 10,
   "metadata": {},
   "outputs": [
    {
     "data": {
      "text/html": [
       "<div>\n",
       "<style scoped>\n",
       "    .dataframe tbody tr th:only-of-type {\n",
       "        vertical-align: middle;\n",
       "    }\n",
       "\n",
       "    .dataframe tbody tr th {\n",
       "        vertical-align: top;\n",
       "    }\n",
       "\n",
       "    .dataframe thead th {\n",
       "        text-align: right;\n",
       "    }\n",
       "</style>\n",
       "<table border=\"1\" class=\"dataframe\">\n",
       "  <thead>\n",
       "    <tr style=\"text-align: right;\">\n",
       "      <th></th>\n",
       "      <th>account_length</th>\n",
       "      <th>international_plan</th>\n",
       "      <th>voice_mail_plan</th>\n",
       "      <th>number_vmail_messages</th>\n",
       "      <th>total_day_minutes</th>\n",
       "      <th>total_day_calls</th>\n",
       "      <th>total_day_charge</th>\n",
       "      <th>total_eve_minutes</th>\n",
       "      <th>total_eve_calls</th>\n",
       "      <th>total_eve_charge</th>\n",
       "      <th>total_night_minutes</th>\n",
       "      <th>total_night_calls</th>\n",
       "      <th>total_night_charge</th>\n",
       "      <th>total_intl_minutes</th>\n",
       "      <th>total_intl_calls</th>\n",
       "      <th>total_intl_charge</th>\n",
       "      <th>number_customer_service_calls</th>\n",
       "    </tr>\n",
       "    <tr>\n",
       "      <th>churn</th>\n",
       "      <th></th>\n",
       "      <th></th>\n",
       "      <th></th>\n",
       "      <th></th>\n",
       "      <th></th>\n",
       "      <th></th>\n",
       "      <th></th>\n",
       "      <th></th>\n",
       "      <th></th>\n",
       "      <th></th>\n",
       "      <th></th>\n",
       "      <th></th>\n",
       "      <th></th>\n",
       "      <th></th>\n",
       "      <th></th>\n",
       "      <th></th>\n",
       "      <th></th>\n",
       "    </tr>\n",
       "  </thead>\n",
       "  <tbody>\n",
       "    <tr>\n",
       "      <th>0</th>\n",
       "      <td>99.924973</td>\n",
       "      <td>0.062705</td>\n",
       "      <td>0.282037</td>\n",
       "      <td>8.177437</td>\n",
       "      <td>175.555093</td>\n",
       "      <td>99.813801</td>\n",
       "      <td>29.844948</td>\n",
       "      <td>198.570674</td>\n",
       "      <td>100.231380</td>\n",
       "      <td>16.878743</td>\n",
       "      <td>199.577519</td>\n",
       "      <td>99.942771</td>\n",
       "      <td>8.981131</td>\n",
       "      <td>10.194441</td>\n",
       "      <td>4.460570</td>\n",
       "      <td>2.753018</td>\n",
       "      <td>1.441676</td>\n",
       "    </tr>\n",
       "    <tr>\n",
       "      <th>1</th>\n",
       "      <td>102.137124</td>\n",
       "      <td>0.279264</td>\n",
       "      <td>0.137124</td>\n",
       "      <td>4.299331</td>\n",
       "      <td>208.990134</td>\n",
       "      <td>100.478261</td>\n",
       "      <td>35.528679</td>\n",
       "      <td>209.964883</td>\n",
       "      <td>99.841137</td>\n",
       "      <td>17.847207</td>\n",
       "      <td>206.331773</td>\n",
       "      <td>99.209030</td>\n",
       "      <td>9.285033</td>\n",
       "      <td>10.632441</td>\n",
       "      <td>4.217391</td>\n",
       "      <td>2.871254</td>\n",
       "      <td>2.275920</td>\n",
       "    </tr>\n",
       "  </tbody>\n",
       "</table>\n",
       "</div>"
      ],
      "text/plain": [
       "       account_length  international_plan  voice_mail_plan  \\\n",
       "churn                                                        \n",
       "0           99.924973            0.062705         0.282037   \n",
       "1          102.137124            0.279264         0.137124   \n",
       "\n",
       "       number_vmail_messages  total_day_minutes  total_day_calls  \\\n",
       "churn                                                              \n",
       "0                   8.177437         175.555093        99.813801   \n",
       "1                   4.299331         208.990134       100.478261   \n",
       "\n",
       "       total_day_charge  total_eve_minutes  total_eve_calls  total_eve_charge  \\\n",
       "churn                                                                           \n",
       "0             29.844948         198.570674       100.231380         16.878743   \n",
       "1             35.528679         209.964883        99.841137         17.847207   \n",
       "\n",
       "       total_night_minutes  total_night_calls  total_night_charge  \\\n",
       "churn                                                               \n",
       "0               199.577519          99.942771            8.981131   \n",
       "1               206.331773          99.209030            9.285033   \n",
       "\n",
       "       total_intl_minutes  total_intl_calls  total_intl_charge  \\\n",
       "churn                                                            \n",
       "0               10.194441          4.460570           2.753018   \n",
       "1               10.632441          4.217391           2.871254   \n",
       "\n",
       "       number_customer_service_calls  \n",
       "churn                                 \n",
       "0                           1.441676  \n",
       "1                           2.275920  "
      ]
     },
     "execution_count": 10,
     "metadata": {},
     "output_type": "execute_result"
    }
   ],
   "source": [
    "df.groupby(\"churn\").mean()"
   ]
  },
  {
   "cell_type": "code",
   "execution_count": 11,
   "metadata": {},
   "outputs": [
    {
     "data": {
      "text/plain": [
       "array(['OH', 'NJ', 'OK', 'MA', 'MO', 'LA', 'WV', 'IN', 'RI', 'IA', 'MT',\n",
       "       'NY', 'ID', 'VA', 'TX', 'FL', 'CO', 'AZ', 'SC', 'WY', 'HI', 'NH',\n",
       "       'AK', 'GA', 'MD', 'AR', 'WI', 'OR', 'MI', 'DE', 'UT', 'CA', 'SD',\n",
       "       'NC', 'WA', 'MN', 'NM', 'NV', 'DC', 'VT', 'KY', 'ME', 'MS', 'AL',\n",
       "       'NE', 'KS', 'TN', 'IL', 'PA', 'CT', 'ND'], dtype=object)"
      ]
     },
     "execution_count": 11,
     "metadata": {},
     "output_type": "execute_result"
    }
   ],
   "source": [
    "df[\"state\"].unique()"
   ]
  },
  {
   "cell_type": "code",
   "execution_count": 12,
   "metadata": {},
   "outputs": [],
   "source": [
    "X=df.drop([\"state\",\"churn\"],axis=1)\n",
    "y=df[\"churn\"]"
   ]
  },
  {
   "cell_type": "code",
   "execution_count": 13,
   "metadata": {},
   "outputs": [],
   "source": [
    "state_dummies=pd.get_dummies(df[\"state\"]).drop(\"WY\",axis=1)"
   ]
  },
  {
   "cell_type": "code",
   "execution_count": 14,
   "metadata": {},
   "outputs": [],
   "source": [
    "X=pd.concat([state_dummies,X],axis=1)"
   ]
  },
  {
   "cell_type": "code",
   "execution_count": 15,
   "metadata": {},
   "outputs": [
    {
     "data": {
      "text/html": [
       "<div>\n",
       "<style scoped>\n",
       "    .dataframe tbody tr th:only-of-type {\n",
       "        vertical-align: middle;\n",
       "    }\n",
       "\n",
       "    .dataframe tbody tr th {\n",
       "        vertical-align: top;\n",
       "    }\n",
       "\n",
       "    .dataframe thead th {\n",
       "        text-align: right;\n",
       "    }\n",
       "</style>\n",
       "<table border=\"1\" class=\"dataframe\">\n",
       "  <thead>\n",
       "    <tr style=\"text-align: right;\">\n",
       "      <th></th>\n",
       "      <th>AK</th>\n",
       "      <th>AL</th>\n",
       "      <th>AR</th>\n",
       "      <th>AZ</th>\n",
       "      <th>CA</th>\n",
       "      <th>CO</th>\n",
       "      <th>CT</th>\n",
       "      <th>DC</th>\n",
       "      <th>DE</th>\n",
       "      <th>FL</th>\n",
       "      <th>...</th>\n",
       "      <th>total_eve_minutes</th>\n",
       "      <th>total_eve_calls</th>\n",
       "      <th>total_eve_charge</th>\n",
       "      <th>total_night_minutes</th>\n",
       "      <th>total_night_calls</th>\n",
       "      <th>total_night_charge</th>\n",
       "      <th>total_intl_minutes</th>\n",
       "      <th>total_intl_calls</th>\n",
       "      <th>total_intl_charge</th>\n",
       "      <th>number_customer_service_calls</th>\n",
       "    </tr>\n",
       "  </thead>\n",
       "  <tbody>\n",
       "    <tr>\n",
       "      <th>0</th>\n",
       "      <td>0</td>\n",
       "      <td>0</td>\n",
       "      <td>0</td>\n",
       "      <td>0</td>\n",
       "      <td>0</td>\n",
       "      <td>0</td>\n",
       "      <td>0</td>\n",
       "      <td>0</td>\n",
       "      <td>0</td>\n",
       "      <td>0</td>\n",
       "      <td>...</td>\n",
       "      <td>195.5</td>\n",
       "      <td>103</td>\n",
       "      <td>16.62</td>\n",
       "      <td>254.4</td>\n",
       "      <td>103</td>\n",
       "      <td>11.45</td>\n",
       "      <td>13.7</td>\n",
       "      <td>3</td>\n",
       "      <td>3.70</td>\n",
       "      <td>1</td>\n",
       "    </tr>\n",
       "    <tr>\n",
       "      <th>1</th>\n",
       "      <td>0</td>\n",
       "      <td>0</td>\n",
       "      <td>0</td>\n",
       "      <td>0</td>\n",
       "      <td>0</td>\n",
       "      <td>0</td>\n",
       "      <td>0</td>\n",
       "      <td>0</td>\n",
       "      <td>0</td>\n",
       "      <td>0</td>\n",
       "      <td>...</td>\n",
       "      <td>121.2</td>\n",
       "      <td>110</td>\n",
       "      <td>10.30</td>\n",
       "      <td>162.6</td>\n",
       "      <td>104</td>\n",
       "      <td>7.32</td>\n",
       "      <td>12.2</td>\n",
       "      <td>5</td>\n",
       "      <td>3.29</td>\n",
       "      <td>0</td>\n",
       "    </tr>\n",
       "    <tr>\n",
       "      <th>2</th>\n",
       "      <td>0</td>\n",
       "      <td>0</td>\n",
       "      <td>0</td>\n",
       "      <td>0</td>\n",
       "      <td>0</td>\n",
       "      <td>0</td>\n",
       "      <td>0</td>\n",
       "      <td>0</td>\n",
       "      <td>0</td>\n",
       "      <td>0</td>\n",
       "      <td>...</td>\n",
       "      <td>61.9</td>\n",
       "      <td>88</td>\n",
       "      <td>5.26</td>\n",
       "      <td>196.9</td>\n",
       "      <td>89</td>\n",
       "      <td>8.86</td>\n",
       "      <td>6.6</td>\n",
       "      <td>7</td>\n",
       "      <td>1.78</td>\n",
       "      <td>2</td>\n",
       "    </tr>\n",
       "  </tbody>\n",
       "</table>\n",
       "<p>3 rows × 68 columns</p>\n",
       "</div>"
      ],
      "text/plain": [
       "   AK  AL  AR  AZ  CA  CO  CT  DC  DE  FL  ...  total_eve_minutes  \\\n",
       "0   0   0   0   0   0   0   0   0   0   0  ...              195.5   \n",
       "1   0   0   0   0   0   0   0   0   0   0  ...              121.2   \n",
       "2   0   0   0   0   0   0   0   0   0   0  ...               61.9   \n",
       "\n",
       "   total_eve_calls  total_eve_charge  total_night_minutes  total_night_calls  \\\n",
       "0              103             16.62                254.4                103   \n",
       "1              110             10.30                162.6                104   \n",
       "2               88              5.26                196.9                 89   \n",
       "\n",
       "   total_night_charge  total_intl_minutes  total_intl_calls  \\\n",
       "0               11.45                13.7                 3   \n",
       "1                7.32                12.2                 5   \n",
       "2                8.86                 6.6                 7   \n",
       "\n",
       "   total_intl_charge  number_customer_service_calls  \n",
       "0               3.70                              1  \n",
       "1               3.29                              0  \n",
       "2               1.78                              2  \n",
       "\n",
       "[3 rows x 68 columns]"
      ]
     },
     "execution_count": 15,
     "metadata": {},
     "output_type": "execute_result"
    }
   ],
   "source": [
    "X.head(3)"
   ]
  },
  {
   "cell_type": "markdown",
   "metadata": {},
   "source": [
    "## Data Analysis and Visualisation"
   ]
  },
  {
   "cell_type": "code",
   "execution_count": 16,
   "metadata": {},
   "outputs": [
    {
     "data": {
      "image/png": "[encoded data removed]",
      "text/plain": [
       "<Figure size 360x360 with 1 Axes>"
      ]
     },
     "metadata": {},
     "output_type": "display_data"
    }
   ],
   "source": [
    "#Binning\n",
    "sns.set_theme(palette=\"bright\")\n",
    "sns.displot(df[\"churn\"])\n",
    "plt.show()"
   ]
  },
  {
   "cell_type": "code",
   "execution_count": 17,
   "metadata": {},
   "outputs": [
    {
     "data": {
      "text/html": [
       "<div>\n",
       "<style scoped>\n",
       "    .dataframe tbody tr th:only-of-type {\n",
       "        vertical-align: middle;\n",
       "    }\n",
       "\n",
       "    .dataframe tbody tr th {\n",
       "        vertical-align: top;\n",
       "    }\n",
       "\n",
       "    .dataframe thead th {\n",
       "        text-align: right;\n",
       "    }\n",
       "</style>\n",
       "<table border=\"1\" class=\"dataframe\">\n",
       "  <thead>\n",
       "    <tr style=\"text-align: right;\">\n",
       "      <th>churn</th>\n",
       "      <th>0</th>\n",
       "      <th>1</th>\n",
       "      <th>All</th>\n",
       "    </tr>\n",
       "    <tr>\n",
       "      <th>international_plan</th>\n",
       "      <th></th>\n",
       "      <th></th>\n",
       "      <th></th>\n",
       "    </tr>\n",
       "  </thead>\n",
       "  <tbody>\n",
       "    <tr>\n",
       "      <th>0</th>\n",
       "      <td>3423</td>\n",
       "      <td>431</td>\n",
       "      <td>3854</td>\n",
       "    </tr>\n",
       "    <tr>\n",
       "      <th>1</th>\n",
       "      <td>229</td>\n",
       "      <td>167</td>\n",
       "      <td>396</td>\n",
       "    </tr>\n",
       "    <tr>\n",
       "      <th>All</th>\n",
       "      <td>3652</td>\n",
       "      <td>598</td>\n",
       "      <td>4250</td>\n",
       "    </tr>\n",
       "  </tbody>\n",
       "</table>\n",
       "</div>"
      ],
      "text/plain": [
       "churn                  0    1   All\n",
       "international_plan                 \n",
       "0                   3423  431  3854\n",
       "1                    229  167   396\n",
       "All                 3652  598  4250"
      ]
     },
     "execution_count": 17,
     "metadata": {},
     "output_type": "execute_result"
    }
   ],
   "source": [
    "#Table of proportions\n",
    "intl_churn=pd.crosstab(df[\"international_plan\"],df[\"churn\"],margins=True)\n",
    "intl_churn"
   ]
  },
  {
   "cell_type": "code",
   "execution_count": 18,
   "metadata": {},
   "outputs": [
    {
     "data": {
      "image/png": "[encoded data removed]",
      "text/plain": [
       "<Figure size 432x288 with 1 Axes>"
      ]
     },
     "metadata": {},
     "output_type": "display_data"
    }
   ],
   "source": [
    "#Clustered Bar Graph;churn by international plan\n",
    "intl_churn.plot(kind='bar',legend=True,title='Comparison Bar Chart: Churn Proportions by International Plan')\n",
    "plt.xlabel('International Plan')\n",
    "plt.ylabel('Count')\n",
    "plt.show()"
   ]
  },
  {
   "cell_type": "code",
   "execution_count": 19,
   "metadata": {},
   "outputs": [
    {
     "data": {
      "text/html": [
       "<div>\n",
       "<style scoped>\n",
       "    .dataframe tbody tr th:only-of-type {\n",
       "        vertical-align: middle;\n",
       "    }\n",
       "\n",
       "    .dataframe tbody tr th {\n",
       "        vertical-align: top;\n",
       "    }\n",
       "\n",
       "    .dataframe thead th {\n",
       "        text-align: right;\n",
       "    }\n",
       "</style>\n",
       "<table border=\"1\" class=\"dataframe\">\n",
       "  <thead>\n",
       "    <tr style=\"text-align: right;\">\n",
       "      <th>churn</th>\n",
       "      <th>0</th>\n",
       "      <th>1</th>\n",
       "      <th>All</th>\n",
       "    </tr>\n",
       "    <tr>\n",
       "      <th>voice_mail_plan</th>\n",
       "      <th></th>\n",
       "      <th></th>\n",
       "      <th></th>\n",
       "    </tr>\n",
       "  </thead>\n",
       "  <tbody>\n",
       "    <tr>\n",
       "      <th>0</th>\n",
       "      <td>2622</td>\n",
       "      <td>516</td>\n",
       "      <td>3138</td>\n",
       "    </tr>\n",
       "    <tr>\n",
       "      <th>1</th>\n",
       "      <td>1030</td>\n",
       "      <td>82</td>\n",
       "      <td>1112</td>\n",
       "    </tr>\n",
       "    <tr>\n",
       "      <th>All</th>\n",
       "      <td>3652</td>\n",
       "      <td>598</td>\n",
       "      <td>4250</td>\n",
       "    </tr>\n",
       "  </tbody>\n",
       "</table>\n",
       "</div>"
      ],
      "text/plain": [
       "churn               0    1   All\n",
       "voice_mail_plan                 \n",
       "0                2622  516  3138\n",
       "1                1030   82  1112\n",
       "All              3652  598  4250"
      ]
     },
     "execution_count": 19,
     "metadata": {},
     "output_type": "execute_result"
    }
   ],
   "source": [
    "#Table of proportions\n",
    "vmailplan_churn=pd.crosstab(df[\"voice_mail_plan\"],df[\"churn\"],margins=True)\n",
    "vmailplan_churn"
   ]
  },
  {
   "cell_type": "code",
   "execution_count": 20,
   "metadata": {},
   "outputs": [
    {
     "data": {
      "image/png": "[encoded data removed]",
      "text/plain": [
       "<Figure size 432x288 with 1 Axes>"
      ]
     },
     "metadata": {},
     "output_type": "display_data"
    }
   ],
   "source": [
    "#Clustered Bar Graph;churn by vmail plan\n",
    "vmailplan_churn.plot(kind='bar',legend=True,title='Comparison Bar Chart: Churn Proportions by Voice Mail Plan')\n",
    "plt.ylabel('Count')\n",
    "plt.xlabel('Voice Mail Plan')\n",
    "plt.show()"
   ]
  },
  {
   "cell_type": "code",
   "execution_count": 21,
   "metadata": {},
   "outputs": [
    {
     "data": {
      "text/html": [
       "<div>\n",
       "<style scoped>\n",
       "    .dataframe tbody tr th:only-of-type {\n",
       "        vertical-align: middle;\n",
       "    }\n",
       "\n",
       "    .dataframe tbody tr th {\n",
       "        vertical-align: top;\n",
       "    }\n",
       "\n",
       "    .dataframe thead th {\n",
       "        text-align: right;\n",
       "    }\n",
       "</style>\n",
       "<table border=\"1\" class=\"dataframe\">\n",
       "  <thead>\n",
       "    <tr style=\"text-align: right;\">\n",
       "      <th>churn</th>\n",
       "      <th>0</th>\n",
       "      <th>1</th>\n",
       "      <th>All</th>\n",
       "    </tr>\n",
       "    <tr>\n",
       "      <th>number_customer_service_calls</th>\n",
       "      <th></th>\n",
       "      <th></th>\n",
       "      <th></th>\n",
       "    </tr>\n",
       "  </thead>\n",
       "  <tbody>\n",
       "    <tr>\n",
       "      <th>0</th>\n",
       "      <td>789</td>\n",
       "      <td>97</td>\n",
       "      <td>886</td>\n",
       "    </tr>\n",
       "    <tr>\n",
       "      <th>1</th>\n",
       "      <td>1358</td>\n",
       "      <td>166</td>\n",
       "      <td>1524</td>\n",
       "    </tr>\n",
       "    <tr>\n",
       "      <th>2</th>\n",
       "      <td>845</td>\n",
       "      <td>102</td>\n",
       "      <td>947</td>\n",
       "    </tr>\n",
       "    <tr>\n",
       "      <th>3</th>\n",
       "      <td>495</td>\n",
       "      <td>63</td>\n",
       "      <td>558</td>\n",
       "    </tr>\n",
       "    <tr>\n",
       "      <th>4</th>\n",
       "      <td>117</td>\n",
       "      <td>92</td>\n",
       "      <td>209</td>\n",
       "    </tr>\n",
       "    <tr>\n",
       "      <th>5</th>\n",
       "      <td>32</td>\n",
       "      <td>49</td>\n",
       "      <td>81</td>\n",
       "    </tr>\n",
       "    <tr>\n",
       "      <th>6</th>\n",
       "      <td>9</td>\n",
       "      <td>19</td>\n",
       "      <td>28</td>\n",
       "    </tr>\n",
       "    <tr>\n",
       "      <th>7</th>\n",
       "      <td>6</td>\n",
       "      <td>7</td>\n",
       "      <td>13</td>\n",
       "    </tr>\n",
       "    <tr>\n",
       "      <th>8</th>\n",
       "      <td>1</td>\n",
       "      <td>1</td>\n",
       "      <td>2</td>\n",
       "    </tr>\n",
       "    <tr>\n",
       "      <th>9</th>\n",
       "      <td>0</td>\n",
       "      <td>2</td>\n",
       "      <td>2</td>\n",
       "    </tr>\n",
       "    <tr>\n",
       "      <th>All</th>\n",
       "      <td>3652</td>\n",
       "      <td>598</td>\n",
       "      <td>4250</td>\n",
       "    </tr>\n",
       "  </tbody>\n",
       "</table>\n",
       "</div>"
      ],
      "text/plain": [
       "churn                             0    1   All\n",
       "number_customer_service_calls                 \n",
       "0                               789   97   886\n",
       "1                              1358  166  1524\n",
       "2                               845  102   947\n",
       "3                               495   63   558\n",
       "4                               117   92   209\n",
       "5                                32   49    81\n",
       "6                                 9   19    28\n",
       "7                                 6    7    13\n",
       "8                                 1    1     2\n",
       "9                                 0    2     2\n",
       "All                            3652  598  4250"
      ]
     },
     "execution_count": 21,
     "metadata": {},
     "output_type": "execute_result"
    }
   ],
   "source": [
    "#Table of proportions\n",
    "cust_service_calls_churn=pd.crosstab(df[\"number_customer_service_calls\"],df[\"churn\"],margins=True)\n",
    "cust_service_calls_churn"
   ]
  },
  {
   "cell_type": "code",
   "execution_count": 22,
   "metadata": {
    "scrolled": true
   },
   "outputs": [
    {
     "data": {
      "image/png": "[encoded data removed]",
      "text/plain": [
       "<Figure size 432x288 with 1 Axes>"
      ]
     },
     "metadata": {},
     "output_type": "display_data"
    }
   ],
   "source": [
    "#Stacked Bar of Customer Service Calls and Churn\n",
    "cust_service_calls_churn.plot(kind='bar',stacked=True)\n",
    "plt.xlabel('Calls to Customer Service')\n",
    "plt.ylabel('Count')\n",
    "plt.title('Churn Rate Relative to Calls to Customer Service')\n",
    "plt.show()"
   ]
  },
  {
   "cell_type": "code",
   "execution_count": 23,
   "metadata": {},
   "outputs": [
    {
     "data": {
      "image/png": "[encoded data removed]",
      "text/plain": [
       "<Figure size 432x288 with 1 Axes>"
      ]
     },
     "metadata": {},
     "output_type": "display_data"
    }
   ],
   "source": [
    "#Histogram of Customer Service Calls\n",
    "plt.hist(df['number_customer_service_calls'])\n",
    "plt.title('Histogram of Customer Service Calls')\n",
    "plt.xlabel('Customer Service Calls')\n",
    "plt.ylabel('Count')\n",
    "plt.show()"
   ]
  },
  {
   "cell_type": "code",
   "execution_count": 24,
   "metadata": {},
   "outputs": [
    {
     "data": {
      "image/png": "[encoded data removed]",
      "text/plain": [
       "<Figure size 432x288 with 1 Axes>"
      ]
     },
     "metadata": {},
     "output_type": "display_data"
    }
   ],
   "source": [
    "#Pie Chart of Total Day,Evening and Night Minutes\n",
    "minutes = ['Total Day Minutes','Total Evening Minutes','Total Night Minutes']\n",
    "total_minutes = [df['total_day_minutes'].sum(),df['total_eve_minutes'].sum(),df['total_night_minutes'].sum()]\n",
    "ax = plt.subplot()\n",
    "ax.pie(total_minutes,labels=minutes, autopct='%1.1f%%')\n",
    "ax.axis('equal')\n",
    "plt.show()"
   ]
  },
  {
   "cell_type": "code",
   "execution_count": 25,
   "metadata": {},
   "outputs": [
    {
     "data": {
      "image/png": "[encoded data removed]",
      "text/plain": [
       "<Figure size 432x288 with 1 Axes>"
      ]
     },
     "metadata": {},
     "output_type": "display_data"
    }
   ],
   "source": [
    "#Pie Chart of Total Day,Evening and Night Charges\n",
    "charges = ['Total Day Charges','Total Evening Charges','Total Night Charges']\n",
    "total_charges = [df['total_day_charge'].sum(),df['total_eve_charge'].sum(),df['total_night_charge'].sum()]\n",
    "ax1 = plt.subplot()\n",
    "ax1.pie(total_charges,labels=charges, autopct='%1.1f%%')\n",
    "ax1.axis('equal')\n",
    "plt.show()"
   ]
  },
  {
   "cell_type": "code",
   "execution_count": 26,
   "metadata": {},
   "outputs": [
    {
     "data": {
      "text/plain": [
       "[5, 110, 467, 421, 108]"
      ]
     },
     "execution_count": 26,
     "metadata": {},
     "output_type": "execute_result"
    }
   ],
   "source": [
    "#Range of Number of Voice Mail Messages\n",
    "Number_of_vmail_messages=[len(df[(df['number_vmail_messages']>0) & (df['number_vmail_messages']<10)]),len(df[(df['number_vmail_messages']>=10) & (df['number_vmail_messages']<20)]),len(df[(df['number_vmail_messages']>=20) & (df['number_vmail_messages']<30)]),len(df[(df['number_vmail_messages']>=30) & (df['number_vmail_messages']<40)]), len(df[(df['number_vmail_messages']>=40)])]\n",
    "Number_of_vmail_messages"
   ]
  },
  {
   "cell_type": "code",
   "execution_count": 27,
   "metadata": {},
   "outputs": [
    {
     "data": {
      "image/png": "[encoded data removed]",
      "text/plain": [
       "<Figure size 432x288 with 1 Axes>"
      ]
     },
     "metadata": {},
     "output_type": "display_data"
    }
   ],
   "source": [
    "#Plot between Range and Number of Vmail Messages\n",
    "range_vmail_messages = ['0-10','10-20','20-30','30-40','> 40']\n",
    "plot_vmail_messages=sns.barplot(x=range_vmail_messages,y=Number_of_vmail_messages)\n",
    "plot_vmail_messages.set(title=\"Number of Voice Mail Messages\",xlabel=\"Range\")\n",
    "plt.show()"
   ]
  },
  {
   "cell_type": "markdown",
   "metadata": {},
   "source": [
    "### Outlier Detection using Percentile-method"
   ]
  },
  {
   "cell_type": "code",
   "execution_count": 28,
   "metadata": {},
   "outputs": [
    {
     "data": {
      "text/plain": [
       "(4250, 20)"
      ]
     },
     "execution_count": 28,
     "metadata": {},
     "output_type": "execute_result"
    }
   ],
   "source": [
    "df.shape"
   ]
  },
  {
   "cell_type": "code",
   "execution_count": 29,
   "metadata": {},
   "outputs": [
    {
     "data": {
      "text/html": [
       "<div>\n",
       "<style scoped>\n",
       "    .dataframe tbody tr th:only-of-type {\n",
       "        vertical-align: middle;\n",
       "    }\n",
       "\n",
       "    .dataframe tbody tr th {\n",
       "        vertical-align: top;\n",
       "    }\n",
       "\n",
       "    .dataframe thead th {\n",
       "        text-align: right;\n",
       "    }\n",
       "</style>\n",
       "<table border=\"1\" class=\"dataframe\">\n",
       "  <thead>\n",
       "    <tr style=\"text-align: right;\">\n",
       "      <th></th>\n",
       "      <th>account_length</th>\n",
       "      <th>international_plan</th>\n",
       "      <th>voice_mail_plan</th>\n",
       "      <th>number_vmail_messages</th>\n",
       "      <th>total_day_minutes</th>\n",
       "      <th>total_day_calls</th>\n",
       "      <th>total_day_charge</th>\n",
       "      <th>total_eve_minutes</th>\n",
       "      <th>total_eve_calls</th>\n",
       "      <th>total_eve_charge</th>\n",
       "      <th>total_night_minutes</th>\n",
       "      <th>total_night_calls</th>\n",
       "      <th>total_night_charge</th>\n",
       "      <th>total_intl_minutes</th>\n",
       "      <th>total_intl_calls</th>\n",
       "      <th>total_intl_charge</th>\n",
       "      <th>number_customer_service_calls</th>\n",
       "      <th>churn</th>\n",
       "    </tr>\n",
       "  </thead>\n",
       "  <tbody>\n",
       "    <tr>\n",
       "      <th>count</th>\n",
       "      <td>4250.000000</td>\n",
       "      <td>4250.000000</td>\n",
       "      <td>4250.000000</td>\n",
       "      <td>4250.000000</td>\n",
       "      <td>4250.000000</td>\n",
       "      <td>4250.000000</td>\n",
       "      <td>4250.000000</td>\n",
       "      <td>4250.000000</td>\n",
       "      <td>4250.000000</td>\n",
       "      <td>4250.000000</td>\n",
       "      <td>4250.000000</td>\n",
       "      <td>4250.000000</td>\n",
       "      <td>4250.000000</td>\n",
       "      <td>4250.000000</td>\n",
       "      <td>4250.000000</td>\n",
       "      <td>4250.000000</td>\n",
       "      <td>4250.000000</td>\n",
       "      <td>4250.000000</td>\n",
       "    </tr>\n",
       "    <tr>\n",
       "      <th>mean</th>\n",
       "      <td>100.236235</td>\n",
       "      <td>0.093176</td>\n",
       "      <td>0.261647</td>\n",
       "      <td>7.631765</td>\n",
       "      <td>180.259600</td>\n",
       "      <td>99.907294</td>\n",
       "      <td>30.644682</td>\n",
       "      <td>200.173906</td>\n",
       "      <td>100.176471</td>\n",
       "      <td>17.015012</td>\n",
       "      <td>200.527882</td>\n",
       "      <td>99.839529</td>\n",
       "      <td>9.023892</td>\n",
       "      <td>10.256071</td>\n",
       "      <td>4.426353</td>\n",
       "      <td>2.769654</td>\n",
       "      <td>1.559059</td>\n",
       "      <td>0.140706</td>\n",
       "    </tr>\n",
       "    <tr>\n",
       "      <th>std</th>\n",
       "      <td>39.698401</td>\n",
       "      <td>0.290714</td>\n",
       "      <td>0.439583</td>\n",
       "      <td>13.439882</td>\n",
       "      <td>54.012373</td>\n",
       "      <td>19.850817</td>\n",
       "      <td>9.182096</td>\n",
       "      <td>50.249518</td>\n",
       "      <td>19.908591</td>\n",
       "      <td>4.271212</td>\n",
       "      <td>50.353548</td>\n",
       "      <td>20.093220</td>\n",
       "      <td>2.265922</td>\n",
       "      <td>2.760102</td>\n",
       "      <td>2.463069</td>\n",
       "      <td>0.745204</td>\n",
       "      <td>1.311434</td>\n",
       "      <td>0.347759</td>\n",
       "    </tr>\n",
       "    <tr>\n",
       "      <th>min</th>\n",
       "      <td>1.000000</td>\n",
       "      <td>0.000000</td>\n",
       "      <td>0.000000</td>\n",
       "      <td>0.000000</td>\n",
       "      <td>0.000000</td>\n",
       "      <td>0.000000</td>\n",
       "      <td>0.000000</td>\n",
       "      <td>0.000000</td>\n",
       "      <td>0.000000</td>\n",
       "      <td>0.000000</td>\n",
       "      <td>0.000000</td>\n",
       "      <td>0.000000</td>\n",
       "      <td>0.000000</td>\n",
       "      <td>0.000000</td>\n",
       "      <td>0.000000</td>\n",
       "      <td>0.000000</td>\n",
       "      <td>0.000000</td>\n",
       "      <td>0.000000</td>\n",
       "    </tr>\n",
       "    <tr>\n",
       "      <th>25%</th>\n",
       "      <td>73.000000</td>\n",
       "      <td>0.000000</td>\n",
       "      <td>0.000000</td>\n",
       "      <td>0.000000</td>\n",
       "      <td>143.325000</td>\n",
       "      <td>87.000000</td>\n",
       "      <td>24.365000</td>\n",
       "      <td>165.925000</td>\n",
       "      <td>87.000000</td>\n",
       "      <td>14.102500</td>\n",
       "      <td>167.225000</td>\n",
       "      <td>86.000000</td>\n",
       "      <td>7.522500</td>\n",
       "      <td>8.500000</td>\n",
       "      <td>3.000000</td>\n",
       "      <td>2.300000</td>\n",
       "      <td>1.000000</td>\n",
       "      <td>0.000000</td>\n",
       "    </tr>\n",
       "    <tr>\n",
       "      <th>50%</th>\n",
       "      <td>100.000000</td>\n",
       "      <td>0.000000</td>\n",
       "      <td>0.000000</td>\n",
       "      <td>0.000000</td>\n",
       "      <td>180.450000</td>\n",
       "      <td>100.000000</td>\n",
       "      <td>30.680000</td>\n",
       "      <td>200.700000</td>\n",
       "      <td>100.000000</td>\n",
       "      <td>17.060000</td>\n",
       "      <td>200.450000</td>\n",
       "      <td>100.000000</td>\n",
       "      <td>9.020000</td>\n",
       "      <td>10.300000</td>\n",
       "      <td>4.000000</td>\n",
       "      <td>2.780000</td>\n",
       "      <td>1.000000</td>\n",
       "      <td>0.000000</td>\n",
       "    </tr>\n",
       "    <tr>\n",
       "      <th>75%</th>\n",
       "      <td>127.000000</td>\n",
       "      <td>0.000000</td>\n",
       "      <td>1.000000</td>\n",
       "      <td>16.000000</td>\n",
       "      <td>216.200000</td>\n",
       "      <td>113.000000</td>\n",
       "      <td>36.750000</td>\n",
       "      <td>233.775000</td>\n",
       "      <td>114.000000</td>\n",
       "      <td>19.867500</td>\n",
       "      <td>234.700000</td>\n",
       "      <td>113.000000</td>\n",
       "      <td>10.560000</td>\n",
       "      <td>12.000000</td>\n",
       "      <td>6.000000</td>\n",
       "      <td>3.240000</td>\n",
       "      <td>2.000000</td>\n",
       "      <td>0.000000</td>\n",
       "    </tr>\n",
       "    <tr>\n",
       "      <th>max</th>\n",
       "      <td>243.000000</td>\n",
       "      <td>1.000000</td>\n",
       "      <td>1.000000</td>\n",
       "      <td>52.000000</td>\n",
       "      <td>351.500000</td>\n",
       "      <td>165.000000</td>\n",
       "      <td>59.760000</td>\n",
       "      <td>359.300000</td>\n",
       "      <td>170.000000</td>\n",
       "      <td>30.540000</td>\n",
       "      <td>395.000000</td>\n",
       "      <td>175.000000</td>\n",
       "      <td>17.770000</td>\n",
       "      <td>20.000000</td>\n",
       "      <td>20.000000</td>\n",
       "      <td>5.400000</td>\n",
       "      <td>9.000000</td>\n",
       "      <td>1.000000</td>\n",
       "    </tr>\n",
       "  </tbody>\n",
       "</table>\n",
       "</div>"
      ],
      "text/plain": [
       "       account_length  international_plan  voice_mail_plan  \\\n",
       "count     4250.000000         4250.000000      4250.000000   \n",
       "mean       100.236235            0.093176         0.261647   \n",
       "std         39.698401            0.290714         0.439583   \n",
       "min          1.000000            0.000000         0.000000   \n",
       "25%         73.000000            0.000000         0.000000   \n",
       "50%        100.000000            0.000000         0.000000   \n",
       "75%        127.000000            0.000000         1.000000   \n",
       "max        243.000000            1.000000         1.000000   \n",
       "\n",
       "       number_vmail_messages  total_day_minutes  total_day_calls  \\\n",
       "count            4250.000000        4250.000000      4250.000000   \n",
       "mean                7.631765         180.259600        99.907294   \n",
       "std                13.439882          54.012373        19.850817   \n",
       "min                 0.000000           0.000000         0.000000   \n",
       "25%                 0.000000         143.325000        87.000000   \n",
       "50%                 0.000000         180.450000       100.000000   \n",
       "75%                16.000000         216.200000       113.000000   \n",
       "max                52.000000         351.500000       165.000000   \n",
       "\n",
       "       total_day_charge  total_eve_minutes  total_eve_calls  total_eve_charge  \\\n",
       "count       4250.000000        4250.000000      4250.000000       4250.000000   \n",
       "mean          30.644682         200.173906       100.176471         17.015012   \n",
       "std            9.182096          50.249518        19.908591          4.271212   \n",
       "min            0.000000           0.000000         0.000000          0.000000   \n",
       "25%           24.365000         165.925000        87.000000         14.102500   \n",
       "50%           30.680000         200.700000       100.000000         17.060000   \n",
       "75%           36.750000         233.775000       114.000000         19.867500   \n",
       "max           59.760000         359.300000       170.000000         30.540000   \n",
       "\n",
       "       total_night_minutes  total_night_calls  total_night_charge  \\\n",
       "count          4250.000000        4250.000000         4250.000000   \n",
       "mean            200.527882          99.839529            9.023892   \n",
       "std              50.353548          20.093220            2.265922   \n",
       "min               0.000000           0.000000            0.000000   \n",
       "25%             167.225000          86.000000            7.522500   \n",
       "50%             200.450000         100.000000            9.020000   \n",
       "75%             234.700000         113.000000           10.560000   \n",
       "max             395.000000         175.000000           17.770000   \n",
       "\n",
       "       total_intl_minutes  total_intl_calls  total_intl_charge  \\\n",
       "count         4250.000000       4250.000000        4250.000000   \n",
       "mean            10.256071          4.426353           2.769654   \n",
       "std              2.760102          2.463069           0.745204   \n",
       "min              0.000000          0.000000           0.000000   \n",
       "25%              8.500000          3.000000           2.300000   \n",
       "50%             10.300000          4.000000           2.780000   \n",
       "75%             12.000000          6.000000           3.240000   \n",
       "max             20.000000         20.000000           5.400000   \n",
       "\n",
       "       number_customer_service_calls        churn  \n",
       "count                    4250.000000  4250.000000  \n",
       "mean                        1.559059     0.140706  \n",
       "std                         1.311434     0.347759  \n",
       "min                         0.000000     0.000000  \n",
       "25%                         1.000000     0.000000  \n",
       "50%                         1.000000     0.000000  \n",
       "75%                         2.000000     0.000000  \n",
       "max                         9.000000     1.000000  "
      ]
     },
     "execution_count": 29,
     "metadata": {},
     "output_type": "execute_result"
    }
   ],
   "source": [
    "df.describe()"
   ]
  },
  {
   "cell_type": "code",
   "execution_count": 30,
   "metadata": {},
   "outputs": [
    {
     "name": "stdout",
     "output_type": "stream",
     "text": [
      "0.0 7.0\n"
     ]
    },
    {
     "data": {
      "text/html": [
       "<div>\n",
       "<style scoped>\n",
       "    .dataframe tbody tr th:only-of-type {\n",
       "        vertical-align: middle;\n",
       "    }\n",
       "\n",
       "    .dataframe tbody tr th {\n",
       "        vertical-align: top;\n",
       "    }\n",
       "\n",
       "    .dataframe thead th {\n",
       "        text-align: right;\n",
       "    }\n",
       "</style>\n",
       "<table border=\"1\" class=\"dataframe\">\n",
       "  <thead>\n",
       "    <tr style=\"text-align: right;\">\n",
       "      <th></th>\n",
       "      <th>state</th>\n",
       "      <th>account_length</th>\n",
       "      <th>area_code</th>\n",
       "      <th>international_plan</th>\n",
       "      <th>voice_mail_plan</th>\n",
       "      <th>number_vmail_messages</th>\n",
       "      <th>total_day_minutes</th>\n",
       "      <th>total_day_calls</th>\n",
       "      <th>total_day_charge</th>\n",
       "      <th>total_eve_minutes</th>\n",
       "      <th>total_eve_calls</th>\n",
       "      <th>total_eve_charge</th>\n",
       "      <th>total_night_minutes</th>\n",
       "      <th>total_night_calls</th>\n",
       "      <th>total_night_charge</th>\n",
       "      <th>total_intl_minutes</th>\n",
       "      <th>total_intl_calls</th>\n",
       "      <th>total_intl_charge</th>\n",
       "      <th>number_customer_service_calls</th>\n",
       "      <th>churn</th>\n",
       "    </tr>\n",
       "  </thead>\n",
       "  <tbody>\n",
       "  </tbody>\n",
       "</table>\n",
       "</div>"
      ],
      "text/plain": [
       "Empty DataFrame\n",
       "Columns: [state, account_length, area_code, international_plan, voice_mail_plan, number_vmail_messages, total_day_minutes, total_day_calls, total_day_charge, total_eve_minutes, total_eve_calls, total_eve_charge, total_night_minutes, total_night_calls, total_night_charge, total_intl_minutes, total_intl_calls, total_intl_charge, number_customer_service_calls, churn]\n",
       "Index: []"
      ]
     },
     "execution_count": 30,
     "metadata": {},
     "output_type": "execute_result"
    }
   ],
   "source": [
    "min_thresold,max_thresold=df.number_customer_service_calls.quantile([0.001,0.999])\n",
    "print(min_thresold,max_thresold)\n",
    "df[(df.number_customer_service_calls < min_thresold) & (df.number_customer_service_calls > max_thresold)]"
   ]
  },
  {
   "cell_type": "code",
   "execution_count": 31,
   "metadata": {},
   "outputs": [
    {
     "name": "stdout",
     "output_type": "stream",
     "text": [
      "0.0 5.160080000000016\n"
     ]
    },
    {
     "data": {
      "text/html": [
       "<div>\n",
       "<style scoped>\n",
       "    .dataframe tbody tr th:only-of-type {\n",
       "        vertical-align: middle;\n",
       "    }\n",
       "\n",
       "    .dataframe tbody tr th {\n",
       "        vertical-align: top;\n",
       "    }\n",
       "\n",
       "    .dataframe thead th {\n",
       "        text-align: right;\n",
       "    }\n",
       "</style>\n",
       "<table border=\"1\" class=\"dataframe\">\n",
       "  <thead>\n",
       "    <tr style=\"text-align: right;\">\n",
       "      <th></th>\n",
       "      <th>state</th>\n",
       "      <th>account_length</th>\n",
       "      <th>area_code</th>\n",
       "      <th>international_plan</th>\n",
       "      <th>voice_mail_plan</th>\n",
       "      <th>number_vmail_messages</th>\n",
       "      <th>total_day_minutes</th>\n",
       "      <th>total_day_calls</th>\n",
       "      <th>total_day_charge</th>\n",
       "      <th>total_eve_minutes</th>\n",
       "      <th>total_eve_calls</th>\n",
       "      <th>total_eve_charge</th>\n",
       "      <th>total_night_minutes</th>\n",
       "      <th>total_night_calls</th>\n",
       "      <th>total_night_charge</th>\n",
       "      <th>total_intl_minutes</th>\n",
       "      <th>total_intl_calls</th>\n",
       "      <th>total_intl_charge</th>\n",
       "      <th>number_customer_service_calls</th>\n",
       "      <th>churn</th>\n",
       "    </tr>\n",
       "  </thead>\n",
       "  <tbody>\n",
       "  </tbody>\n",
       "</table>\n",
       "</div>"
      ],
      "text/plain": [
       "Empty DataFrame\n",
       "Columns: [state, account_length, area_code, international_plan, voice_mail_plan, number_vmail_messages, total_day_minutes, total_day_calls, total_day_charge, total_eve_minutes, total_eve_calls, total_eve_charge, total_night_minutes, total_night_calls, total_night_charge, total_intl_minutes, total_intl_calls, total_intl_charge, number_customer_service_calls, churn]\n",
       "Index: []"
      ]
     },
     "execution_count": 31,
     "metadata": {},
     "output_type": "execute_result"
    }
   ],
   "source": [
    "min_thresold,max_thresold=df.total_intl_charge.quantile([0.001,0.999])\n",
    "print(min_thresold,max_thresold)\n",
    "df[(df.total_intl_charge < min_thresold) & (df.total_intl_charge > max_thresold)]"
   ]
  },
  {
   "cell_type": "code",
   "execution_count": 32,
   "metadata": {},
   "outputs": [
    {
     "name": "stdout",
     "output_type": "stream",
     "text": [
      "2.10747 16.517630000000025\n"
     ]
    },
    {
     "data": {
      "text/html": [
       "<div>\n",
       "<style scoped>\n",
       "    .dataframe tbody tr th:only-of-type {\n",
       "        vertical-align: middle;\n",
       "    }\n",
       "\n",
       "    .dataframe tbody tr th {\n",
       "        vertical-align: top;\n",
       "    }\n",
       "\n",
       "    .dataframe thead th {\n",
       "        text-align: right;\n",
       "    }\n",
       "</style>\n",
       "<table border=\"1\" class=\"dataframe\">\n",
       "  <thead>\n",
       "    <tr style=\"text-align: right;\">\n",
       "      <th></th>\n",
       "      <th>state</th>\n",
       "      <th>account_length</th>\n",
       "      <th>area_code</th>\n",
       "      <th>international_plan</th>\n",
       "      <th>voice_mail_plan</th>\n",
       "      <th>number_vmail_messages</th>\n",
       "      <th>total_day_minutes</th>\n",
       "      <th>total_day_calls</th>\n",
       "      <th>total_day_charge</th>\n",
       "      <th>total_eve_minutes</th>\n",
       "      <th>total_eve_calls</th>\n",
       "      <th>total_eve_charge</th>\n",
       "      <th>total_night_minutes</th>\n",
       "      <th>total_night_calls</th>\n",
       "      <th>total_night_charge</th>\n",
       "      <th>total_intl_minutes</th>\n",
       "      <th>total_intl_calls</th>\n",
       "      <th>total_intl_charge</th>\n",
       "      <th>number_customer_service_calls</th>\n",
       "      <th>churn</th>\n",
       "    </tr>\n",
       "  </thead>\n",
       "  <tbody>\n",
       "  </tbody>\n",
       "</table>\n",
       "</div>"
      ],
      "text/plain": [
       "Empty DataFrame\n",
       "Columns: [state, account_length, area_code, international_plan, voice_mail_plan, number_vmail_messages, total_day_minutes, total_day_calls, total_day_charge, total_eve_minutes, total_eve_calls, total_eve_charge, total_night_minutes, total_night_calls, total_night_charge, total_intl_minutes, total_intl_calls, total_intl_charge, number_customer_service_calls, churn]\n",
       "Index: []"
      ]
     },
     "execution_count": 32,
     "metadata": {},
     "output_type": "execute_result"
    }
   ],
   "source": [
    "min_thresold,max_thresold=df.total_night_charge.quantile([0.001,0.999])\n",
    "print(min_thresold,max_thresold)\n",
    "df[(df.total_night_charge < min_thresold) & (df.total_night_charge > max_thresold)]"
   ]
  },
  {
   "cell_type": "code",
   "execution_count": 33,
   "metadata": {},
   "outputs": [
    {
     "name": "stdout",
     "output_type": "stream",
     "text": [
      "3.59498 29.59510000000002\n"
     ]
    },
    {
     "data": {
      "text/html": [
       "<div>\n",
       "<style scoped>\n",
       "    .dataframe tbody tr th:only-of-type {\n",
       "        vertical-align: middle;\n",
       "    }\n",
       "\n",
       "    .dataframe tbody tr th {\n",
       "        vertical-align: top;\n",
       "    }\n",
       "\n",
       "    .dataframe thead th {\n",
       "        text-align: right;\n",
       "    }\n",
       "</style>\n",
       "<table border=\"1\" class=\"dataframe\">\n",
       "  <thead>\n",
       "    <tr style=\"text-align: right;\">\n",
       "      <th></th>\n",
       "      <th>state</th>\n",
       "      <th>account_length</th>\n",
       "      <th>area_code</th>\n",
       "      <th>international_plan</th>\n",
       "      <th>voice_mail_plan</th>\n",
       "      <th>number_vmail_messages</th>\n",
       "      <th>total_day_minutes</th>\n",
       "      <th>total_day_calls</th>\n",
       "      <th>total_day_charge</th>\n",
       "      <th>total_eve_minutes</th>\n",
       "      <th>total_eve_calls</th>\n",
       "      <th>total_eve_charge</th>\n",
       "      <th>total_night_minutes</th>\n",
       "      <th>total_night_calls</th>\n",
       "      <th>total_night_charge</th>\n",
       "      <th>total_intl_minutes</th>\n",
       "      <th>total_intl_calls</th>\n",
       "      <th>total_intl_charge</th>\n",
       "      <th>number_customer_service_calls</th>\n",
       "      <th>churn</th>\n",
       "    </tr>\n",
       "  </thead>\n",
       "  <tbody>\n",
       "  </tbody>\n",
       "</table>\n",
       "</div>"
      ],
      "text/plain": [
       "Empty DataFrame\n",
       "Columns: [state, account_length, area_code, international_plan, voice_mail_plan, number_vmail_messages, total_day_minutes, total_day_calls, total_day_charge, total_eve_minutes, total_eve_calls, total_eve_charge, total_night_minutes, total_night_calls, total_night_charge, total_intl_minutes, total_intl_calls, total_intl_charge, number_customer_service_calls, churn]\n",
       "Index: []"
      ]
     },
     "execution_count": 33,
     "metadata": {},
     "output_type": "execute_result"
    }
   ],
   "source": [
    "min_thresold,max_thresold=df.total_eve_charge.quantile([0.001,0.999])\n",
    "print(min_thresold,max_thresold)\n",
    "df[(df.total_eve_charge < min_thresold) & (df.total_eve_charge > max_thresold)]"
   ]
  },
  {
   "cell_type": "code",
   "execution_count": 34,
   "metadata": {},
   "outputs": [
    {
     "name": "stdout",
     "output_type": "stream",
     "text": [
      "1.24739 57.28032000000007\n"
     ]
    },
    {
     "data": {
      "text/html": [
       "<div>\n",
       "<style scoped>\n",
       "    .dataframe tbody tr th:only-of-type {\n",
       "        vertical-align: middle;\n",
       "    }\n",
       "\n",
       "    .dataframe tbody tr th {\n",
       "        vertical-align: top;\n",
       "    }\n",
       "\n",
       "    .dataframe thead th {\n",
       "        text-align: right;\n",
       "    }\n",
       "</style>\n",
       "<table border=\"1\" class=\"dataframe\">\n",
       "  <thead>\n",
       "    <tr style=\"text-align: right;\">\n",
       "      <th></th>\n",
       "      <th>state</th>\n",
       "      <th>account_length</th>\n",
       "      <th>area_code</th>\n",
       "      <th>international_plan</th>\n",
       "      <th>voice_mail_plan</th>\n",
       "      <th>number_vmail_messages</th>\n",
       "      <th>total_day_minutes</th>\n",
       "      <th>total_day_calls</th>\n",
       "      <th>total_day_charge</th>\n",
       "      <th>total_eve_minutes</th>\n",
       "      <th>total_eve_calls</th>\n",
       "      <th>total_eve_charge</th>\n",
       "      <th>total_night_minutes</th>\n",
       "      <th>total_night_calls</th>\n",
       "      <th>total_night_charge</th>\n",
       "      <th>total_intl_minutes</th>\n",
       "      <th>total_intl_calls</th>\n",
       "      <th>total_intl_charge</th>\n",
       "      <th>number_customer_service_calls</th>\n",
       "      <th>churn</th>\n",
       "    </tr>\n",
       "  </thead>\n",
       "  <tbody>\n",
       "  </tbody>\n",
       "</table>\n",
       "</div>"
      ],
      "text/plain": [
       "Empty DataFrame\n",
       "Columns: [state, account_length, area_code, international_plan, voice_mail_plan, number_vmail_messages, total_day_minutes, total_day_calls, total_day_charge, total_eve_minutes, total_eve_calls, total_eve_charge, total_night_minutes, total_night_calls, total_night_charge, total_intl_minutes, total_intl_calls, total_intl_charge, number_customer_service_calls, churn]\n",
       "Index: []"
      ]
     },
     "execution_count": 34,
     "metadata": {},
     "output_type": "execute_result"
    }
   ],
   "source": [
    "min_thresold,max_thresold=df.total_day_charge.quantile([0.001,0.999])\n",
    "print(min_thresold,max_thresold)\n",
    "df[(df.total_day_charge < min_thresold) & (df.total_day_charge > max_thresold)]"
   ]
  },
  {
   "cell_type": "code",
   "execution_count": 35,
   "metadata": {},
   "outputs": [],
   "source": [
    "#No Outliers were found."
   ]
  },
  {
   "cell_type": "markdown",
   "metadata": {},
   "source": [
    "## Model Training\n",
    "**Random Forest Classifier**"
   ]
  },
  {
   "cell_type": "code",
   "execution_count": 36,
   "metadata": {},
   "outputs": [],
   "source": [
    "from sklearn.model_selection import train_test_split\n",
    "from sklearn.preprocessing import MinMaxScaler\n",
    "from sklearn.ensemble import RandomForestClassifier\n",
    "from sklearn.metrics import classification_report,confusion_matrix"
   ]
  },
  {
   "cell_type": "code",
   "execution_count": 37,
   "metadata": {},
   "outputs": [],
   "source": [
    "X_scaled=MinMaxScaler().fit_transform(X)    #Scaling the data"
   ]
  },
  {
   "cell_type": "code",
   "execution_count": 38,
   "metadata": {},
   "outputs": [],
   "source": [
    "X_train, X_test, y_train, y_test = train_test_split(X_scaled, y, test_size=0.3, random_state=42)"
   ]
  },
  {
   "cell_type": "code",
   "execution_count": 39,
   "metadata": {},
   "outputs": [
    {
     "data": {
      "text/plain": [
       "0.9529411764705882"
      ]
     },
     "execution_count": 39,
     "metadata": {},
     "output_type": "execute_result"
    }
   ],
   "source": [
    "model=RandomForestClassifier(n_estimators=400)\n",
    "model.fit(X_train,y_train)\n",
    "model.score(X_test,y_test)"
   ]
  },
  {
   "cell_type": "code",
   "execution_count": 40,
   "metadata": {},
   "outputs": [],
   "source": [
    "y_pred=model.predict(X_test)   #predictions"
   ]
  },
  {
   "cell_type": "markdown",
   "metadata": {},
   "source": [
    "**Accuracy-Report**"
   ]
  },
  {
   "cell_type": "code",
   "execution_count": 41,
   "metadata": {},
   "outputs": [
    {
     "name": "stdout",
     "output_type": "stream",
     "text": [
      "[[1075    5]\n",
      " [  55  140]] \n",
      "\n",
      "\n",
      "              precision    recall  f1-score   support\n",
      "\n",
      "           0       0.95      1.00      0.97      1080\n",
      "           1       0.97      0.72      0.82       195\n",
      "\n",
      "    accuracy                           0.95      1275\n",
      "   macro avg       0.96      0.86      0.90      1275\n",
      "weighted avg       0.95      0.95      0.95      1275\n",
      "\n"
     ]
    }
   ],
   "source": [
    "print(confusion_matrix(y_test,y_pred),\"\\n\\n\")\n",
    "print(classification_report(y_test,y_pred))"
   ]
  },
  {
   "cell_type": "markdown",
   "metadata": {},
   "source": [
    "### Got accuracy score of 95%"
   ]
  },
  {
   "cell_type": "markdown",
   "metadata": {},
   "source": [
    "## Artificial Neural Network - Deep Learning"
   ]
  },
  {
   "cell_type": "code",
   "execution_count": 42,
   "metadata": {},
   "outputs": [],
   "source": [
    "import tensorflow as tf\n",
    "from tensorflow import keras"
   ]
  },
  {
   "cell_type": "code",
   "execution_count": 43,
   "metadata": {},
   "outputs": [
    {
     "data": {
      "text/plain": [
       "(2975, 68)"
      ]
     },
     "execution_count": 43,
     "metadata": {},
     "output_type": "execute_result"
    }
   ],
   "source": [
    "X_train.shape  #68 columns, I'll take same number of neurons in the input layer\n",
    "# Each neuron in the input layer is accepting 1 feature"
   ]
  },
  {
   "cell_type": "code",
   "execution_count": 44,
   "metadata": {},
   "outputs": [],
   "source": [
    "# X or y must not have any object(or string) type"
   ]
  },
  {
   "cell_type": "code",
   "execution_count": 61,
   "metadata": {
    "collapsed": true
   },
   "outputs": [
    {
     "name": "stdout",
     "output_type": "stream",
     "text": [
      "Epoch 1/500\n",
      "93/93 [==============================] - 0s 1ms/step - loss: 0.4399 - accuracy: 0.8316\n",
      "Epoch 2/500\n",
      "93/93 [==============================] - 0s 1ms/step - loss: 0.3773 - accuracy: 0.8645\n",
      "Epoch 3/500\n",
      "93/93 [==============================] - 0s 1ms/step - loss: 0.3601 - accuracy: 0.8645\n",
      "Epoch 4/500\n",
      "93/93 [==============================] - 0s 1ms/step - loss: 0.3466 - accuracy: 0.8669\n",
      "Epoch 5/500\n",
      "93/93 [==============================] - 0s 1ms/step - loss: 0.3382 - accuracy: 0.8696\n",
      "Epoch 6/500\n",
      "93/93 [==============================] - 0s 1ms/step - loss: 0.3290 - accuracy: 0.8682\n",
      "Epoch 7/500\n",
      "93/93 [==============================] - 0s 1ms/step - loss: 0.3217 - accuracy: 0.8709\n",
      "Epoch 8/500\n",
      "93/93 [==============================] - 0s 1ms/step - loss: 0.3167 - accuracy: 0.8716\n",
      "Epoch 9/500\n",
      "93/93 [==============================] - 0s 1ms/step - loss: 0.3123 - accuracy: 0.8739\n",
      "Epoch 10/500\n",
      "93/93 [==============================] - 0s 1ms/step - loss: 0.3074 - accuracy: 0.8739\n",
      "Epoch 11/500\n",
      "93/93 [==============================] - 0s 1ms/step - loss: 0.3041 - accuracy: 0.8753\n",
      "Epoch 12/500\n",
      "93/93 [==============================] - 0s 1ms/step - loss: 0.2992 - accuracy: 0.8750\n",
      "Epoch 13/500\n",
      "93/93 [==============================] - 0s 1ms/step - loss: 0.2955 - accuracy: 0.8753\n",
      "Epoch 14/500\n",
      "93/93 [==============================] - 0s 1ms/step - loss: 0.2928 - accuracy: 0.8776\n",
      "Epoch 15/500\n",
      "93/93 [==============================] - 0s 1ms/step - loss: 0.2884 - accuracy: 0.8793\n",
      "Epoch 16/500\n",
      "93/93 [==============================] - 0s 1ms/step - loss: 0.2842 - accuracy: 0.8787\n",
      "Epoch 17/500\n",
      "93/93 [==============================] - 0s 1ms/step - loss: 0.2822 - accuracy: 0.8820\n",
      "Epoch 18/500\n",
      "93/93 [==============================] - 0s 1ms/step - loss: 0.2780 - accuracy: 0.8827\n",
      "Epoch 19/500\n",
      "93/93 [==============================] - 0s 1ms/step - loss: 0.2736 - accuracy: 0.8877\n",
      "Epoch 20/500\n",
      "93/93 [==============================] - 0s 2ms/step - loss: 0.2684 - accuracy: 0.8884\n",
      "Epoch 21/500\n",
      "93/93 [==============================] - 0s 1ms/step - loss: 0.2661 - accuracy: 0.8897\n",
      "Epoch 22/500\n",
      "93/93 [==============================] - 0s 1ms/step - loss: 0.2619 - accuracy: 0.8914\n",
      "Epoch 23/500\n",
      "93/93 [==============================] - 0s 1ms/step - loss: 0.2569 - accuracy: 0.8951\n",
      "Epoch 24/500\n",
      "93/93 [==============================] - 0s 1ms/step - loss: 0.2517 - accuracy: 0.8982\n",
      "Epoch 25/500\n",
      "93/93 [==============================] - 0s 1ms/step - loss: 0.2482 - accuracy: 0.8978\n",
      "Epoch 26/500\n",
      "93/93 [==============================] - 0s 1ms/step - loss: 0.2439 - accuracy: 0.9015\n",
      "Epoch 27/500\n",
      "93/93 [==============================] - 0s 2ms/step - loss: 0.2402 - accuracy: 0.9015\n",
      "Epoch 28/500\n",
      "93/93 [==============================] - 0s 1ms/step - loss: 0.2370 - accuracy: 0.9039\n",
      "Epoch 29/500\n",
      "93/93 [==============================] - 0s 1ms/step - loss: 0.2335 - accuracy: 0.9092\n",
      "Epoch 30/500\n",
      "93/93 [==============================] - 0s 1ms/step - loss: 0.2298 - accuracy: 0.9069\n",
      "Epoch 31/500\n",
      "93/93 [==============================] - 0s 1ms/step - loss: 0.2262 - accuracy: 0.9133\n",
      "Epoch 32/500\n",
      "93/93 [==============================] - 0s 1ms/step - loss: 0.2245 - accuracy: 0.9143\n",
      "Epoch 33/500\n",
      "93/93 [==============================] - 0s 1ms/step - loss: 0.2199 - accuracy: 0.9139\n",
      "Epoch 34/500\n",
      "93/93 [==============================] - 0s 1ms/step - loss: 0.2177 - accuracy: 0.9153\n",
      "Epoch 35/500\n",
      "93/93 [==============================] - 0s 1ms/step - loss: 0.2135 - accuracy: 0.9207\n",
      "Epoch 36/500\n",
      "93/93 [==============================] - 0s 1ms/step - loss: 0.2119 - accuracy: 0.9213\n",
      "Epoch 37/500\n",
      "93/93 [==============================] - 0s 1ms/step - loss: 0.2082 - accuracy: 0.9197\n",
      "Epoch 38/500\n",
      "93/93 [==============================] - 0s 1ms/step - loss: 0.2056 - accuracy: 0.9237\n",
      "Epoch 39/500\n",
      "93/93 [==============================] - 0s 1ms/step - loss: 0.2038 - accuracy: 0.9257\n",
      "Epoch 40/500\n",
      "93/93 [==============================] - 0s 1ms/step - loss: 0.2023 - accuracy: 0.9287\n",
      "Epoch 41/500\n",
      "93/93 [==============================] - 0s 2ms/step - loss: 0.1982 - accuracy: 0.9257\n",
      "Epoch 42/500\n",
      "93/93 [==============================] - 0s 1ms/step - loss: 0.1966 - accuracy: 0.9308\n",
      "Epoch 43/500\n",
      "93/93 [==============================] - 0s 1ms/step - loss: 0.1926 - accuracy: 0.9311\n",
      "Epoch 44/500\n",
      "93/93 [==============================] - 0s 1ms/step - loss: 0.1912 - accuracy: 0.9321\n",
      "Epoch 45/500\n",
      "93/93 [==============================] - 0s 1ms/step - loss: 0.1895 - accuracy: 0.9311\n",
      "Epoch 46/500\n",
      "93/93 [==============================] - 0s 1ms/step - loss: 0.1874 - accuracy: 0.9351\n",
      "Epoch 47/500\n",
      "93/93 [==============================] - 0s 2ms/step - loss: 0.1851 - accuracy: 0.9351\n",
      "Epoch 48/500\n",
      "93/93 [==============================] - 0s 1ms/step - loss: 0.1840 - accuracy: 0.9348\n",
      "Epoch 49/500\n",
      "93/93 [==============================] - 0s 1ms/step - loss: 0.1814 - accuracy: 0.9351\n",
      "Epoch 50/500\n",
      "93/93 [==============================] - 0s 1ms/step - loss: 0.1797 - accuracy: 0.9395\n",
      "Epoch 51/500\n",
      "93/93 [==============================] - 0s 1ms/step - loss: 0.1781 - accuracy: 0.9385\n",
      "Epoch 52/500\n",
      "93/93 [==============================] - 0s 1ms/step - loss: 0.1769 - accuracy: 0.9398\n",
      "Epoch 53/500\n",
      "93/93 [==============================] - 0s 2ms/step - loss: 0.1750 - accuracy: 0.9415\n",
      "Epoch 54/500\n",
      "93/93 [==============================] - 0s 2ms/step - loss: 0.1732 - accuracy: 0.9405\n",
      "Epoch 55/500\n",
      "93/93 [==============================] - 0s 1ms/step - loss: 0.1731 - accuracy: 0.9439\n",
      "Epoch 56/500\n",
      "93/93 [==============================] - 0s 2ms/step - loss: 0.1700 - accuracy: 0.9418\n",
      "Epoch 57/500\n",
      "93/93 [==============================] - 0s 1ms/step - loss: 0.1681 - accuracy: 0.9459\n",
      "Epoch 58/500\n",
      "93/93 [==============================] - 0s 2ms/step - loss: 0.1666 - accuracy: 0.9476\n",
      "Epoch 59/500\n",
      "93/93 [==============================] - 0s 2ms/step - loss: 0.1635 - accuracy: 0.9492\n",
      "Epoch 60/500\n",
      "93/93 [==============================] - 0s 1ms/step - loss: 0.1647 - accuracy: 0.9442\n",
      "Epoch 61/500\n",
      "93/93 [==============================] - 0s 1ms/step - loss: 0.1632 - accuracy: 0.9479\n",
      "Epoch 62/500\n",
      "93/93 [==============================] - 0s 1ms/step - loss: 0.1623 - accuracy: 0.9455\n",
      "Epoch 63/500\n",
      "93/93 [==============================] - 0s 1ms/step - loss: 0.1598 - accuracy: 0.9509\n",
      "Epoch 64/500\n",
      "93/93 [==============================] - 0s 1ms/step - loss: 0.1581 - accuracy: 0.9492\n",
      "Epoch 65/500\n",
      "93/93 [==============================] - 0s 1ms/step - loss: 0.1581 - accuracy: 0.9509\n",
      "Epoch 66/500\n",
      "93/93 [==============================] - 0s 1ms/step - loss: 0.1557 - accuracy: 0.9509\n",
      "Epoch 67/500\n",
      "93/93 [==============================] - 0s 1ms/step - loss: 0.1573 - accuracy: 0.9496\n",
      "Epoch 68/500\n",
      "93/93 [==============================] - 0s 1ms/step - loss: 0.1525 - accuracy: 0.9536\n",
      "Epoch 69/500\n",
      "93/93 [==============================] - 0s 1ms/step - loss: 0.1523 - accuracy: 0.9536\n",
      "Epoch 70/500\n",
      "93/93 [==============================] - 0s 1ms/step - loss: 0.1541 - accuracy: 0.9529\n",
      "Epoch 71/500\n",
      "93/93 [==============================] - 0s 1ms/step - loss: 0.1511 - accuracy: 0.9529\n",
      "Epoch 72/500\n",
      "93/93 [==============================] - 0s 1ms/step - loss: 0.1505 - accuracy: 0.9529\n",
      "Epoch 73/500\n",
      "93/93 [==============================] - 0s 1ms/step - loss: 0.1489 - accuracy: 0.9563\n",
      "Epoch 74/500\n",
      "93/93 [==============================] - 0s 1ms/step - loss: 0.1480 - accuracy: 0.9553\n",
      "Epoch 75/500\n",
      "93/93 [==============================] - 0s 1ms/step - loss: 0.1464 - accuracy: 0.9550\n",
      "Epoch 76/500\n",
      "93/93 [==============================] - 0s 1ms/step - loss: 0.1458 - accuracy: 0.9573\n",
      "Epoch 77/500\n",
      "93/93 [==============================] - 0s 1ms/step - loss: 0.1443 - accuracy: 0.9539\n",
      "Epoch 78/500\n",
      "93/93 [==============================] - 0s 1ms/step - loss: 0.1423 - accuracy: 0.9570\n",
      "Epoch 79/500\n",
      "93/93 [==============================] - 0s 1ms/step - loss: 0.1422 - accuracy: 0.9543\n",
      "Epoch 80/500\n",
      "93/93 [==============================] - 0s 1ms/step - loss: 0.1409 - accuracy: 0.9576\n",
      "Epoch 81/500\n",
      "93/93 [==============================] - 0s 1ms/step - loss: 0.1401 - accuracy: 0.9560\n",
      "Epoch 82/500\n",
      "93/93 [==============================] - 0s 1ms/step - loss: 0.1379 - accuracy: 0.9600\n",
      "Epoch 83/500\n"
     ]
    },
    {
     "name": "stdout",
     "output_type": "stream",
     "text": [
      "93/93 [==============================] - 0s 1ms/step - loss: 0.1372 - accuracy: 0.9583\n",
      "Epoch 84/500\n",
      "93/93 [==============================] - 0s 1ms/step - loss: 0.1375 - accuracy: 0.9613\n",
      "Epoch 85/500\n",
      "93/93 [==============================] - 0s 1ms/step - loss: 0.1367 - accuracy: 0.9583\n",
      "Epoch 86/500\n",
      "93/93 [==============================] - 0s 1ms/step - loss: 0.1343 - accuracy: 0.9607\n",
      "Epoch 87/500\n",
      "93/93 [==============================] - 0s 1ms/step - loss: 0.1342 - accuracy: 0.9610\n",
      "Epoch 88/500\n",
      "93/93 [==============================] - 0s 1ms/step - loss: 0.1337 - accuracy: 0.9617\n",
      "Epoch 89/500\n",
      "93/93 [==============================] - 0s 1ms/step - loss: 0.1313 - accuracy: 0.9620\n",
      "Epoch 90/500\n",
      "93/93 [==============================] - 0s 1ms/step - loss: 0.1313 - accuracy: 0.9600\n",
      "Epoch 91/500\n",
      "93/93 [==============================] - 0s 1ms/step - loss: 0.1323 - accuracy: 0.9610\n",
      "Epoch 92/500\n",
      "93/93 [==============================] - 0s 1ms/step - loss: 0.1306 - accuracy: 0.9624\n",
      "Epoch 93/500\n",
      "93/93 [==============================] - 0s 1ms/step - loss: 0.1299 - accuracy: 0.9607\n",
      "Epoch 94/500\n",
      "93/93 [==============================] - 0s 1ms/step - loss: 0.1284 - accuracy: 0.9617\n",
      "Epoch 95/500\n",
      "93/93 [==============================] - 0s 1ms/step - loss: 0.1281 - accuracy: 0.9624\n",
      "Epoch 96/500\n",
      "93/93 [==============================] - 0s 1ms/step - loss: 0.1263 - accuracy: 0.9640\n",
      "Epoch 97/500\n",
      "93/93 [==============================] - 0s 1ms/step - loss: 0.1296 - accuracy: 0.9597\n",
      "Epoch 98/500\n",
      "93/93 [==============================] - 0s 1ms/step - loss: 0.1256 - accuracy: 0.9647\n",
      "Epoch 99/500\n",
      "93/93 [==============================] - 0s 1ms/step - loss: 0.1245 - accuracy: 0.9610\n",
      "Epoch 100/500\n",
      "93/93 [==============================] - 0s 1ms/step - loss: 0.1238 - accuracy: 0.9667\n",
      "Epoch 101/500\n",
      "93/93 [==============================] - 0s 1ms/step - loss: 0.1226 - accuracy: 0.9647\n",
      "Epoch 102/500\n",
      "93/93 [==============================] - 0s 1ms/step - loss: 0.1233 - accuracy: 0.9654\n",
      "Epoch 103/500\n",
      "93/93 [==============================] - 0s 1ms/step - loss: 0.1212 - accuracy: 0.9627\n",
      "Epoch 104/500\n",
      "93/93 [==============================] - 0s 1ms/step - loss: 0.1205 - accuracy: 0.9647\n",
      "Epoch 105/500\n",
      "93/93 [==============================] - 0s 1ms/step - loss: 0.1204 - accuracy: 0.9674\n",
      "Epoch 106/500\n",
      "93/93 [==============================] - 0s 1ms/step - loss: 0.1198 - accuracy: 0.9650\n",
      "Epoch 107/500\n",
      "93/93 [==============================] - 0s 1ms/step - loss: 0.1182 - accuracy: 0.9661\n",
      "Epoch 108/500\n",
      "93/93 [==============================] - 0s 1ms/step - loss: 0.1186 - accuracy: 0.9644\n",
      "Epoch 109/500\n",
      "93/93 [==============================] - 0s 1ms/step - loss: 0.1162 - accuracy: 0.9671\n",
      "Epoch 110/500\n",
      "93/93 [==============================] - 0s 1ms/step - loss: 0.1169 - accuracy: 0.9647\n",
      "Epoch 111/500\n",
      "93/93 [==============================] - 0s 1ms/step - loss: 0.1168 - accuracy: 0.9657\n",
      "Epoch 112/500\n",
      "93/93 [==============================] - 0s 1ms/step - loss: 0.1153 - accuracy: 0.9661\n",
      "Epoch 113/500\n",
      "93/93 [==============================] - 0s 1ms/step - loss: 0.1159 - accuracy: 0.9667\n",
      "Epoch 114/500\n",
      "93/93 [==============================] - 0s 1ms/step - loss: 0.1138 - accuracy: 0.9704\n",
      "Epoch 115/500\n",
      "93/93 [==============================] - 0s 1ms/step - loss: 0.1151 - accuracy: 0.9661\n",
      "Epoch 116/500\n",
      "93/93 [==============================] - 0s 1ms/step - loss: 0.1126 - accuracy: 0.9708\n",
      "Epoch 117/500\n",
      "93/93 [==============================] - 0s 1ms/step - loss: 0.1140 - accuracy: 0.9681\n",
      "Epoch 118/500\n",
      "93/93 [==============================] - 0s 1ms/step - loss: 0.1121 - accuracy: 0.9661\n",
      "Epoch 119/500\n",
      "93/93 [==============================] - 0s 1ms/step - loss: 0.1102 - accuracy: 0.9671\n",
      "Epoch 120/500\n",
      "93/93 [==============================] - 0s 1ms/step - loss: 0.1095 - accuracy: 0.9708\n",
      "Epoch 121/500\n",
      "93/93 [==============================] - 0s 1ms/step - loss: 0.1114 - accuracy: 0.9671\n",
      "Epoch 122/500\n",
      "93/93 [==============================] - 0s 1ms/step - loss: 0.1101 - accuracy: 0.9684\n",
      "Epoch 123/500\n",
      "93/93 [==============================] - 0s 1ms/step - loss: 0.1096 - accuracy: 0.9677\n",
      "Epoch 124/500\n",
      "93/93 [==============================] - 0s 1ms/step - loss: 0.1085 - accuracy: 0.9701\n",
      "Epoch 125/500\n",
      "93/93 [==============================] - 0s 1ms/step - loss: 0.1088 - accuracy: 0.9701\n",
      "Epoch 126/500\n",
      "93/93 [==============================] - 0s 1ms/step - loss: 0.1067 - accuracy: 0.9687\n",
      "Epoch 127/500\n",
      "93/93 [==============================] - 0s 1ms/step - loss: 0.1056 - accuracy: 0.9718\n",
      "Epoch 128/500\n",
      "93/93 [==============================] - 0s 1ms/step - loss: 0.1052 - accuracy: 0.9724\n",
      "Epoch 129/500\n",
      "93/93 [==============================] - 0s 1ms/step - loss: 0.1052 - accuracy: 0.9701\n",
      "Epoch 130/500\n",
      "93/93 [==============================] - 0s 1ms/step - loss: 0.1049 - accuracy: 0.9714\n",
      "Epoch 131/500\n",
      "93/93 [==============================] - 0s 1ms/step - loss: 0.1055 - accuracy: 0.9697\n",
      "Epoch 132/500\n",
      "93/93 [==============================] - 0s 1ms/step - loss: 0.1038 - accuracy: 0.9708\n",
      "Epoch 133/500\n",
      "93/93 [==============================] - 0s 1ms/step - loss: 0.1030 - accuracy: 0.9701\n",
      "Epoch 134/500\n",
      "93/93 [==============================] - 0s 1ms/step - loss: 0.1048 - accuracy: 0.9701\n",
      "Epoch 135/500\n",
      "93/93 [==============================] - 0s 1ms/step - loss: 0.1030 - accuracy: 0.9697\n",
      "Epoch 136/500\n",
      "93/93 [==============================] - 0s 1ms/step - loss: 0.1023 - accuracy: 0.9694\n",
      "Epoch 137/500\n",
      "93/93 [==============================] - 0s 1ms/step - loss: 0.1015 - accuracy: 0.9721\n",
      "Epoch 138/500\n",
      "93/93 [==============================] - 0s 1ms/step - loss: 0.1002 - accuracy: 0.9718\n",
      "Epoch 139/500\n",
      "93/93 [==============================] - 0s 2ms/step - loss: 0.1005 - accuracy: 0.9714\n",
      "Epoch 140/500\n",
      "93/93 [==============================] - 0s 2ms/step - loss: 0.0990 - accuracy: 0.9714\n",
      "Epoch 141/500\n",
      "93/93 [==============================] - 0s 1ms/step - loss: 0.0982 - accuracy: 0.9724\n",
      "Epoch 142/500\n",
      "93/93 [==============================] - 0s 1ms/step - loss: 0.0977 - accuracy: 0.9728\n",
      "Epoch 143/500\n",
      "93/93 [==============================] - 0s 3ms/step - loss: 0.0971 - accuracy: 0.9708\n",
      "Epoch 144/500\n",
      "93/93 [==============================] - 0s 3ms/step - loss: 0.0975 - accuracy: 0.9741\n",
      "Epoch 145/500\n",
      "93/93 [==============================] - 0s 3ms/step - loss: 0.0979 - accuracy: 0.9724\n",
      "Epoch 146/500\n",
      "93/93 [==============================] - 0s 2ms/step - loss: 0.0985 - accuracy: 0.9724\n",
      "Epoch 147/500\n",
      "93/93 [==============================] - 0s 3ms/step - loss: 0.0961 - accuracy: 0.9745\n",
      "Epoch 148/500\n",
      "93/93 [==============================] - 0s 2ms/step - loss: 0.0951 - accuracy: 0.9728\n",
      "Epoch 149/500\n",
      "93/93 [==============================] - 0s 1ms/step - loss: 0.0949 - accuracy: 0.9724\n",
      "Epoch 150/500\n",
      "93/93 [==============================] - 0s 1ms/step - loss: 0.0949 - accuracy: 0.9741\n",
      "Epoch 151/500\n",
      "93/93 [==============================] - 0s 2ms/step - loss: 0.0945 - accuracy: 0.9734\n",
      "Epoch 152/500\n",
      "93/93 [==============================] - 0s 2ms/step - loss: 0.0955 - accuracy: 0.9731\n",
      "Epoch 153/500\n",
      "93/93 [==============================] - 0s 2ms/step - loss: 0.0928 - accuracy: 0.9748\n",
      "Epoch 154/500\n",
      "93/93 [==============================] - 0s 2ms/step - loss: 0.0935 - accuracy: 0.9748\n",
      "Epoch 155/500\n",
      "93/93 [==============================] - 0s 2ms/step - loss: 0.0925 - accuracy: 0.9741\n",
      "Epoch 156/500\n",
      "93/93 [==============================] - 0s 2ms/step - loss: 0.0918 - accuracy: 0.9765\n",
      "Epoch 157/500\n",
      "93/93 [==============================] - 0s 1ms/step - loss: 0.0912 - accuracy: 0.9765\n",
      "Epoch 158/500\n",
      "93/93 [==============================] - 0s 1ms/step - loss: 0.0902 - accuracy: 0.9778\n",
      "Epoch 159/500\n",
      "93/93 [==============================] - 0s 1ms/step - loss: 0.0899 - accuracy: 0.9731\n",
      "Epoch 160/500\n",
      "93/93 [==============================] - 0s 1ms/step - loss: 0.0905 - accuracy: 0.9768\n",
      "Epoch 161/500\n",
      "93/93 [==============================] - 0s 1ms/step - loss: 0.0911 - accuracy: 0.9734\n",
      "Epoch 162/500\n",
      "93/93 [==============================] - 0s 1ms/step - loss: 0.0904 - accuracy: 0.9745\n",
      "Epoch 163/500\n",
      "93/93 [==============================] - 0s 3ms/step - loss: 0.0887 - accuracy: 0.9755\n",
      "Epoch 164/500\n"
     ]
    },
    {
     "name": "stdout",
     "output_type": "stream",
     "text": [
      "93/93 [==============================] - 0s 3ms/step - loss: 0.0888 - accuracy: 0.9771\n",
      "Epoch 165/500\n",
      "93/93 [==============================] - 0s 2ms/step - loss: 0.0877 - accuracy: 0.9751\n",
      "Epoch 166/500\n",
      "93/93 [==============================] - 0s 2ms/step - loss: 0.0867 - accuracy: 0.9775\n",
      "Epoch 167/500\n",
      "93/93 [==============================] - 0s 1ms/step - loss: 0.0877 - accuracy: 0.9758\n",
      "Epoch 168/500\n",
      "93/93 [==============================] - 0s 1ms/step - loss: 0.0879 - accuracy: 0.9768\n",
      "Epoch 169/500\n",
      "93/93 [==============================] - 0s 1ms/step - loss: 0.0851 - accuracy: 0.9792\n",
      "Epoch 170/500\n",
      "93/93 [==============================] - 0s 1ms/step - loss: 0.0859 - accuracy: 0.9782\n",
      "Epoch 171/500\n",
      "93/93 [==============================] - 0s 1ms/step - loss: 0.0877 - accuracy: 0.9741\n",
      "Epoch 172/500\n",
      "93/93 [==============================] - 0s 1ms/step - loss: 0.0845 - accuracy: 0.9775\n",
      "Epoch 173/500\n",
      "93/93 [==============================] - 0s 2ms/step - loss: 0.0856 - accuracy: 0.9778\n",
      "Epoch 174/500\n",
      "93/93 [==============================] - 0s 1ms/step - loss: 0.0845 - accuracy: 0.9768\n",
      "Epoch 175/500\n",
      "93/93 [==============================] - 0s 1ms/step - loss: 0.0824 - accuracy: 0.9782\n",
      "Epoch 176/500\n",
      "93/93 [==============================] - 0s 2ms/step - loss: 0.0830 - accuracy: 0.9788\n",
      "Epoch 177/500\n",
      "93/93 [==============================] - 0s 2ms/step - loss: 0.0824 - accuracy: 0.9808\n",
      "Epoch 178/500\n",
      "93/93 [==============================] - 0s 2ms/step - loss: 0.0822 - accuracy: 0.9765: 0s - loss: 0.0800 - accuracy: \n",
      "Epoch 179/500\n",
      "93/93 [==============================] - 0s 2ms/step - loss: 0.0834 - accuracy: 0.9782\n",
      "Epoch 180/500\n",
      "93/93 [==============================] - 0s 2ms/step - loss: 0.0826 - accuracy: 0.9765: 0s - loss: 0.0764 - accuracy\n",
      "Epoch 181/500\n",
      "93/93 [==============================] - 0s 2ms/step - loss: 0.0805 - accuracy: 0.9798\n",
      "Epoch 182/500\n",
      "93/93 [==============================] - 0s 1ms/step - loss: 0.0808 - accuracy: 0.9785\n",
      "Epoch 183/500\n",
      "93/93 [==============================] - 0s 2ms/step - loss: 0.0804 - accuracy: 0.9778\n",
      "Epoch 184/500\n",
      "93/93 [==============================] - 0s 1ms/step - loss: 0.0802 - accuracy: 0.9778\n",
      "Epoch 185/500\n",
      "93/93 [==============================] - 0s 2ms/step - loss: 0.0791 - accuracy: 0.9792\n",
      "Epoch 186/500\n",
      "93/93 [==============================] - 0s 5ms/step - loss: 0.0804 - accuracy: 0.9778: 0s - loss: 0.0815 - \n",
      "Epoch 187/500\n",
      "93/93 [==============================] - 0s 4ms/step - loss: 0.0794 - accuracy: 0.9782\n",
      "Epoch 188/500\n",
      "93/93 [==============================] - 0s 2ms/step - loss: 0.0798 - accuracy: 0.9792\n",
      "Epoch 189/500\n",
      "93/93 [==============================] - 0s 2ms/step - loss: 0.0785 - accuracy: 0.9785\n",
      "Epoch 190/500\n",
      "93/93 [==============================] - 0s 2ms/step - loss: 0.0776 - accuracy: 0.9805\n",
      "Epoch 191/500\n",
      "93/93 [==============================] - 0s 2ms/step - loss: 0.0761 - accuracy: 0.9825\n",
      "Epoch 192/500\n",
      "93/93 [==============================] - 0s 2ms/step - loss: 0.0766 - accuracy: 0.9802\n",
      "Epoch 193/500\n",
      "93/93 [==============================] - 0s 2ms/step - loss: 0.0764 - accuracy: 0.9788\n",
      "Epoch 194/500\n",
      "93/93 [==============================] - 0s 1ms/step - loss: 0.0769 - accuracy: 0.9802\n",
      "Epoch 195/500\n",
      "93/93 [==============================] - 0s 1ms/step - loss: 0.0753 - accuracy: 0.9808\n",
      "Epoch 196/500\n",
      "93/93 [==============================] - 0s 1ms/step - loss: 0.0753 - accuracy: 0.9815\n",
      "Epoch 197/500\n",
      "93/93 [==============================] - 0s 1ms/step - loss: 0.0745 - accuracy: 0.9812\n",
      "Epoch 198/500\n",
      "93/93 [==============================] - 0s 1ms/step - loss: 0.0764 - accuracy: 0.9805\n",
      "Epoch 199/500\n",
      "93/93 [==============================] - 0s 1ms/step - loss: 0.0741 - accuracy: 0.9829\n",
      "Epoch 200/500\n",
      "93/93 [==============================] - 0s 1ms/step - loss: 0.0742 - accuracy: 0.9795\n",
      "Epoch 201/500\n",
      "93/93 [==============================] - 0s 1ms/step - loss: 0.0755 - accuracy: 0.9798\n",
      "Epoch 202/500\n",
      "93/93 [==============================] - 0s 1ms/step - loss: 0.0752 - accuracy: 0.9798\n",
      "Epoch 203/500\n",
      "93/93 [==============================] - 0s 2ms/step - loss: 0.0746 - accuracy: 0.9805\n",
      "Epoch 204/500\n",
      "93/93 [==============================] - 0s 1ms/step - loss: 0.0730 - accuracy: 0.9808\n",
      "Epoch 205/500\n",
      "93/93 [==============================] - 0s 1ms/step - loss: 0.0729 - accuracy: 0.9812\n",
      "Epoch 206/500\n",
      "93/93 [==============================] - 0s 2ms/step - loss: 0.0719 - accuracy: 0.9812\n",
      "Epoch 207/500\n",
      "93/93 [==============================] - 0s 2ms/step - loss: 0.0715 - accuracy: 0.9812\n",
      "Epoch 208/500\n",
      "93/93 [==============================] - 0s 1ms/step - loss: 0.0724 - accuracy: 0.9805\n",
      "Epoch 209/500\n",
      "93/93 [==============================] - 0s 2ms/step - loss: 0.0709 - accuracy: 0.9818\n",
      "Epoch 210/500\n",
      "93/93 [==============================] - 0s 1ms/step - loss: 0.0709 - accuracy: 0.9815\n",
      "Epoch 211/500\n",
      "93/93 [==============================] - 0s 3ms/step - loss: 0.0695 - accuracy: 0.9835\n",
      "Epoch 212/500\n",
      "93/93 [==============================] - 0s 1ms/step - loss: 0.0707 - accuracy: 0.9818\n",
      "Epoch 213/500\n",
      "93/93 [==============================] - 0s 1ms/step - loss: 0.0694 - accuracy: 0.9835\n",
      "Epoch 214/500\n",
      "93/93 [==============================] - 0s 2ms/step - loss: 0.0695 - accuracy: 0.9815\n",
      "Epoch 215/500\n",
      "93/93 [==============================] - 0s 2ms/step - loss: 0.0705 - accuracy: 0.9818\n",
      "Epoch 216/500\n",
      "93/93 [==============================] - 0s 1ms/step - loss: 0.0715 - accuracy: 0.9798\n",
      "Epoch 217/500\n",
      "93/93 [==============================] - 0s 1ms/step - loss: 0.0684 - accuracy: 0.9835\n",
      "Epoch 218/500\n",
      "93/93 [==============================] - 0s 2ms/step - loss: 0.0674 - accuracy: 0.9815\n",
      "Epoch 219/500\n",
      "93/93 [==============================] - 0s 1ms/step - loss: 0.0688 - accuracy: 0.9818\n",
      "Epoch 220/500\n",
      "93/93 [==============================] - 0s 2ms/step - loss: 0.0704 - accuracy: 0.9805\n",
      "Epoch 221/500\n",
      "93/93 [==============================] - 0s 1ms/step - loss: 0.0662 - accuracy: 0.9839\n",
      "Epoch 222/500\n",
      "93/93 [==============================] - 0s 1ms/step - loss: 0.0663 - accuracy: 0.9825\n",
      "Epoch 223/500\n",
      "93/93 [==============================] - 0s 2ms/step - loss: 0.0652 - accuracy: 0.9835\n",
      "Epoch 224/500\n",
      "93/93 [==============================] - 0s 1ms/step - loss: 0.0655 - accuracy: 0.9835\n",
      "Epoch 225/500\n",
      "93/93 [==============================] - 0s 2ms/step - loss: 0.0647 - accuracy: 0.9855\n",
      "Epoch 226/500\n",
      "93/93 [==============================] - 0s 3ms/step - loss: 0.0649 - accuracy: 0.9845\n",
      "Epoch 227/500\n",
      "93/93 [==============================] - 0s 2ms/step - loss: 0.0639 - accuracy: 0.9852\n",
      "Epoch 228/500\n",
      "93/93 [==============================] - 0s 2ms/step - loss: 0.0653 - accuracy: 0.9835\n",
      "Epoch 229/500\n",
      "93/93 [==============================] - 0s 3ms/step - loss: 0.0639 - accuracy: 0.9845\n",
      "Epoch 230/500\n",
      "93/93 [==============================] - 0s 2ms/step - loss: 0.0632 - accuracy: 0.9845\n",
      "Epoch 231/500\n",
      "93/93 [==============================] - 0s 3ms/step - loss: 0.0636 - accuracy: 0.9842\n",
      "Epoch 232/500\n",
      "93/93 [==============================] - 0s 5ms/step - loss: 0.0624 - accuracy: 0.9845\n",
      "Epoch 233/500\n",
      "93/93 [==============================] - 0s 3ms/step - loss: 0.0617 - accuracy: 0.9852\n",
      "Epoch 234/500\n",
      "93/93 [==============================] - 0s 1ms/step - loss: 0.0635 - accuracy: 0.9845\n",
      "Epoch 235/500\n",
      "93/93 [==============================] - 0s 1ms/step - loss: 0.0617 - accuracy: 0.9862\n",
      "Epoch 236/500\n",
      "93/93 [==============================] - 0s 1ms/step - loss: 0.0612 - accuracy: 0.9869\n",
      "Epoch 237/500\n",
      "93/93 [==============================] - 0s 2ms/step - loss: 0.0596 - accuracy: 0.9855\n",
      "Epoch 238/500\n",
      "93/93 [==============================] - 0s 2ms/step - loss: 0.0597 - accuracy: 0.9849\n",
      "Epoch 239/500\n",
      "93/93 [==============================] - 0s 1ms/step - loss: 0.0619 - accuracy: 0.9842\n",
      "Epoch 240/500\n",
      "93/93 [==============================] - 0s 4ms/step - loss: 0.0599 - accuracy: 0.9852\n",
      "Epoch 241/500\n",
      "93/93 [==============================] - 0s 2ms/step - loss: 0.0596 - accuracy: 0.9859\n",
      "Epoch 242/500\n",
      "93/93 [==============================] - 0s 2ms/step - loss: 0.0596 - accuracy: 0.9845\n",
      "Epoch 243/500\n",
      "93/93 [==============================] - 0s 1ms/step - loss: 0.0605 - accuracy: 0.9839\n",
      "Epoch 244/500\n"
     ]
    },
    {
     "name": "stdout",
     "output_type": "stream",
     "text": [
      "93/93 [==============================] - 0s 2ms/step - loss: 0.0596 - accuracy: 0.9842\n",
      "Epoch 245/500\n",
      "93/93 [==============================] - 0s 1ms/step - loss: 0.0587 - accuracy: 0.9855\n",
      "Epoch 246/500\n",
      "93/93 [==============================] - 0s 4ms/step - loss: 0.0604 - accuracy: 0.9859\n",
      "Epoch 247/500\n",
      "93/93 [==============================] - 0s 5ms/step - loss: 0.0571 - accuracy: 0.9869\n",
      "Epoch 248/500\n",
      "93/93 [==============================] - 0s 2ms/step - loss: 0.0589 - accuracy: 0.9859\n",
      "Epoch 249/500\n",
      "93/93 [==============================] - 0s 1ms/step - loss: 0.0572 - accuracy: 0.9866\n",
      "Epoch 250/500\n",
      "93/93 [==============================] - 0s 1ms/step - loss: 0.0562 - accuracy: 0.9869\n",
      "Epoch 251/500\n",
      "93/93 [==============================] - 0s 1ms/step - loss: 0.0593 - accuracy: 0.9855\n",
      "Epoch 252/500\n",
      "93/93 [==============================] - 0s 1ms/step - loss: 0.0561 - accuracy: 0.9849\n",
      "Epoch 253/500\n",
      "93/93 [==============================] - 0s 1ms/step - loss: 0.0572 - accuracy: 0.9852\n",
      "Epoch 254/500\n",
      "93/93 [==============================] - 0s 1ms/step - loss: 0.0558 - accuracy: 0.9866\n",
      "Epoch 255/500\n",
      "93/93 [==============================] - 0s 1ms/step - loss: 0.0552 - accuracy: 0.9879\n",
      "Epoch 256/500\n",
      "93/93 [==============================] - 0s 1ms/step - loss: 0.0557 - accuracy: 0.9859\n",
      "Epoch 257/500\n",
      "93/93 [==============================] - 0s 1ms/step - loss: 0.0553 - accuracy: 0.9872\n",
      "Epoch 258/500\n",
      "93/93 [==============================] - 0s 1ms/step - loss: 0.0543 - accuracy: 0.9879\n",
      "Epoch 259/500\n",
      "93/93 [==============================] - 0s 1ms/step - loss: 0.0535 - accuracy: 0.9876\n",
      "Epoch 260/500\n",
      "93/93 [==============================] - 0s 1ms/step - loss: 0.0538 - accuracy: 0.9872\n",
      "Epoch 261/500\n",
      "93/93 [==============================] - 0s 1ms/step - loss: 0.0544 - accuracy: 0.9872\n",
      "Epoch 262/500\n",
      "93/93 [==============================] - 0s 1ms/step - loss: 0.0539 - accuracy: 0.9889\n",
      "Epoch 263/500\n",
      "93/93 [==============================] - 0s 1ms/step - loss: 0.0542 - accuracy: 0.9882\n",
      "Epoch 264/500\n",
      "93/93 [==============================] - 0s 1ms/step - loss: 0.0532 - accuracy: 0.9882\n",
      "Epoch 265/500\n",
      "93/93 [==============================] - 0s 1ms/step - loss: 0.0523 - accuracy: 0.9879\n",
      "Epoch 266/500\n",
      "93/93 [==============================] - 0s 1ms/step - loss: 0.0535 - accuracy: 0.9866\n",
      "Epoch 267/500\n",
      "93/93 [==============================] - 0s 1ms/step - loss: 0.0523 - accuracy: 0.9876\n",
      "Epoch 268/500\n",
      "93/93 [==============================] - 0s 1ms/step - loss: 0.0517 - accuracy: 0.9882\n",
      "Epoch 269/500\n",
      "93/93 [==============================] - 0s 1ms/step - loss: 0.0519 - accuracy: 0.9876\n",
      "Epoch 270/500\n",
      "93/93 [==============================] - 0s 1ms/step - loss: 0.0509 - accuracy: 0.9899\n",
      "Epoch 271/500\n",
      "93/93 [==============================] - 0s 1ms/step - loss: 0.0506 - accuracy: 0.9882\n",
      "Epoch 272/500\n",
      "93/93 [==============================] - 0s 1ms/step - loss: 0.0513 - accuracy: 0.9896\n",
      "Epoch 273/500\n",
      "93/93 [==============================] - 0s 1ms/step - loss: 0.0502 - accuracy: 0.9886\n",
      "Epoch 274/500\n",
      "93/93 [==============================] - 0s 1ms/step - loss: 0.0486 - accuracy: 0.9889\n",
      "Epoch 275/500\n",
      "93/93 [==============================] - 0s 1ms/step - loss: 0.0492 - accuracy: 0.9899\n",
      "Epoch 276/500\n",
      "93/93 [==============================] - 0s 1ms/step - loss: 0.0506 - accuracy: 0.9886\n",
      "Epoch 277/500\n",
      "93/93 [==============================] - 0s 1ms/step - loss: 0.0495 - accuracy: 0.9872\n",
      "Epoch 278/500\n",
      "93/93 [==============================] - 0s 1ms/step - loss: 0.0514 - accuracy: 0.9866\n",
      "Epoch 279/500\n",
      "93/93 [==============================] - 0s 1ms/step - loss: 0.0489 - accuracy: 0.9889\n",
      "Epoch 280/500\n",
      "93/93 [==============================] - 0s 1ms/step - loss: 0.0496 - accuracy: 0.9889\n",
      "Epoch 281/500\n",
      "93/93 [==============================] - 0s 1ms/step - loss: 0.0480 - accuracy: 0.9876\n",
      "Epoch 282/500\n",
      "93/93 [==============================] - 0s 1ms/step - loss: 0.0476 - accuracy: 0.9903\n",
      "Epoch 283/500\n",
      "93/93 [==============================] - 0s 1ms/step - loss: 0.0484 - accuracy: 0.9896\n",
      "Epoch 284/500\n",
      "93/93 [==============================] - 0s 1ms/step - loss: 0.0481 - accuracy: 0.9886\n",
      "Epoch 285/500\n",
      "93/93 [==============================] - 0s 1ms/step - loss: 0.0472 - accuracy: 0.9892\n",
      "Epoch 286/500\n",
      "93/93 [==============================] - 0s 1ms/step - loss: 0.0483 - accuracy: 0.9892\n",
      "Epoch 287/500\n",
      "93/93 [==============================] - 0s 1ms/step - loss: 0.0469 - accuracy: 0.9889\n",
      "Epoch 288/500\n",
      "93/93 [==============================] - 0s 1ms/step - loss: 0.0474 - accuracy: 0.9892\n",
      "Epoch 289/500\n",
      "93/93 [==============================] - 0s 1ms/step - loss: 0.0462 - accuracy: 0.9892\n",
      "Epoch 290/500\n",
      "93/93 [==============================] - 0s 1ms/step - loss: 0.0469 - accuracy: 0.9889\n",
      "Epoch 291/500\n",
      "93/93 [==============================] - 0s 1ms/step - loss: 0.0458 - accuracy: 0.9886\n",
      "Epoch 292/500\n",
      "93/93 [==============================] - 0s 1ms/step - loss: 0.0459 - accuracy: 0.9886\n",
      "Epoch 293/500\n",
      "93/93 [==============================] - 0s 1ms/step - loss: 0.0448 - accuracy: 0.9896\n",
      "Epoch 294/500\n",
      "93/93 [==============================] - 0s 1ms/step - loss: 0.0444 - accuracy: 0.9903\n",
      "Epoch 295/500\n",
      "93/93 [==============================] - 0s 1ms/step - loss: 0.0455 - accuracy: 0.9896\n",
      "Epoch 296/500\n",
      "93/93 [==============================] - 0s 1ms/step - loss: 0.0477 - accuracy: 0.9872\n",
      "Epoch 297/500\n",
      "93/93 [==============================] - 0s 1ms/step - loss: 0.0441 - accuracy: 0.9896\n",
      "Epoch 298/500\n",
      "93/93 [==============================] - 0s 1ms/step - loss: 0.0460 - accuracy: 0.9889\n",
      "Epoch 299/500\n",
      "93/93 [==============================] - 0s 1ms/step - loss: 0.0464 - accuracy: 0.9879\n",
      "Epoch 300/500\n",
      "93/93 [==============================] - 0s 1ms/step - loss: 0.0434 - accuracy: 0.9929\n",
      "Epoch 301/500\n",
      "93/93 [==============================] - 0s 1ms/step - loss: 0.0433 - accuracy: 0.9906\n",
      "Epoch 302/500\n",
      "93/93 [==============================] - 0s 1ms/step - loss: 0.0434 - accuracy: 0.9909\n",
      "Epoch 303/500\n",
      "93/93 [==============================] - 0s 1ms/step - loss: 0.0438 - accuracy: 0.9892\n",
      "Epoch 304/500\n",
      "93/93 [==============================] - 0s 1ms/step - loss: 0.0427 - accuracy: 0.9899\n",
      "Epoch 305/500\n",
      "93/93 [==============================] - 0s 1ms/step - loss: 0.0416 - accuracy: 0.9916\n",
      "Epoch 306/500\n",
      "93/93 [==============================] - 0s 1ms/step - loss: 0.0422 - accuracy: 0.9896\n",
      "Epoch 307/500\n",
      "93/93 [==============================] - 0s 1ms/step - loss: 0.0430 - accuracy: 0.9903\n",
      "Epoch 308/500\n",
      "93/93 [==============================] - 0s 1ms/step - loss: 0.0422 - accuracy: 0.9916\n",
      "Epoch 309/500\n",
      "93/93 [==============================] - 0s 1ms/step - loss: 0.0412 - accuracy: 0.9916\n",
      "Epoch 310/500\n",
      "93/93 [==============================] - 0s 1ms/step - loss: 0.0419 - accuracy: 0.9899\n",
      "Epoch 311/500\n",
      "93/93 [==============================] - 0s 1ms/step - loss: 0.0407 - accuracy: 0.9906\n",
      "Epoch 312/500\n",
      "93/93 [==============================] - 0s 1ms/step - loss: 0.0406 - accuracy: 0.9926\n",
      "Epoch 313/500\n",
      "93/93 [==============================] - 0s 1ms/step - loss: 0.0415 - accuracy: 0.9896\n",
      "Epoch 314/500\n",
      "93/93 [==============================] - 0s 1ms/step - loss: 0.0403 - accuracy: 0.9916\n",
      "Epoch 315/500\n",
      "93/93 [==============================] - 0s 1ms/step - loss: 0.0420 - accuracy: 0.9896\n",
      "Epoch 316/500\n",
      "93/93 [==============================] - 0s 1ms/step - loss: 0.0414 - accuracy: 0.9899\n",
      "Epoch 317/500\n",
      "93/93 [==============================] - 0s 1ms/step - loss: 0.0400 - accuracy: 0.9909\n",
      "Epoch 318/500\n",
      "93/93 [==============================] - 0s 1ms/step - loss: 0.0428 - accuracy: 0.9882\n",
      "Epoch 319/500\n",
      "93/93 [==============================] - 0s 1ms/step - loss: 0.0412 - accuracy: 0.9916\n",
      "Epoch 320/500\n",
      "93/93 [==============================] - 0s 1ms/step - loss: 0.0394 - accuracy: 0.9899\n",
      "Epoch 321/500\n",
      "93/93 [==============================] - 0s 1ms/step - loss: 0.0394 - accuracy: 0.9896\n",
      "Epoch 322/500\n",
      "93/93 [==============================] - 0s 1ms/step - loss: 0.0392 - accuracy: 0.9903\n",
      "Epoch 323/500\n",
      "93/93 [==============================] - 0s 1ms/step - loss: 0.0393 - accuracy: 0.9899\n",
      "Epoch 324/500\n",
      "93/93 [==============================] - 0s 1ms/step - loss: 0.0383 - accuracy: 0.9906\n",
      "Epoch 325/500\n"
     ]
    },
    {
     "name": "stdout",
     "output_type": "stream",
     "text": [
      "93/93 [==============================] - 0s 1ms/step - loss: 0.0374 - accuracy: 0.9923\n",
      "Epoch 326/500\n",
      "93/93 [==============================] - 0s 1ms/step - loss: 0.0376 - accuracy: 0.9906\n",
      "Epoch 327/500\n",
      "93/93 [==============================] - 0s 1ms/step - loss: 0.0373 - accuracy: 0.9929\n",
      "Epoch 328/500\n",
      "93/93 [==============================] - 0s 1ms/step - loss: 0.0365 - accuracy: 0.9916\n",
      "Epoch 329/500\n",
      "93/93 [==============================] - 0s 1ms/step - loss: 0.0368 - accuracy: 0.9913\n",
      "Epoch 330/500\n",
      "93/93 [==============================] - 0s 1ms/step - loss: 0.0382 - accuracy: 0.9913\n",
      "Epoch 331/500\n",
      "93/93 [==============================] - 0s 1ms/step - loss: 0.0372 - accuracy: 0.9926\n",
      "Epoch 332/500\n",
      "93/93 [==============================] - 0s 1ms/step - loss: 0.0369 - accuracy: 0.9919\n",
      "Epoch 333/500\n",
      "93/93 [==============================] - 0s 1ms/step - loss: 0.0368 - accuracy: 0.9923\n",
      "Epoch 334/500\n",
      "93/93 [==============================] - 0s 1ms/step - loss: 0.0370 - accuracy: 0.9919\n",
      "Epoch 335/500\n",
      "93/93 [==============================] - 0s 1ms/step - loss: 0.0362 - accuracy: 0.9916\n",
      "Epoch 336/500\n",
      "93/93 [==============================] - 0s 1ms/step - loss: 0.0365 - accuracy: 0.9926\n",
      "Epoch 337/500\n",
      "93/93 [==============================] - 0s 1ms/step - loss: 0.0369 - accuracy: 0.9926\n",
      "Epoch 338/500\n",
      "93/93 [==============================] - 0s 1ms/step - loss: 0.0358 - accuracy: 0.9906\n",
      "Epoch 339/500\n",
      "93/93 [==============================] - 0s 1ms/step - loss: 0.0372 - accuracy: 0.9923\n",
      "Epoch 340/500\n",
      "93/93 [==============================] - 0s 1ms/step - loss: 0.0344 - accuracy: 0.9923\n",
      "Epoch 341/500\n",
      "93/93 [==============================] - 0s 1ms/step - loss: 0.0351 - accuracy: 0.9929\n",
      "Epoch 342/500\n",
      "93/93 [==============================] - 0s 1ms/step - loss: 0.0347 - accuracy: 0.9929\n",
      "Epoch 343/500\n",
      "93/93 [==============================] - 0s 1ms/step - loss: 0.0350 - accuracy: 0.9926\n",
      "Epoch 344/500\n",
      "93/93 [==============================] - 0s 1ms/step - loss: 0.0354 - accuracy: 0.9919\n",
      "Epoch 345/500\n",
      "93/93 [==============================] - 0s 1ms/step - loss: 0.0342 - accuracy: 0.9929\n",
      "Epoch 346/500\n",
      "93/93 [==============================] - 0s 1ms/step - loss: 0.0332 - accuracy: 0.9926\n",
      "Epoch 347/500\n",
      "93/93 [==============================] - 0s 1ms/step - loss: 0.0330 - accuracy: 0.9929\n",
      "Epoch 348/500\n",
      "93/93 [==============================] - 0s 1ms/step - loss: 0.0343 - accuracy: 0.9939\n",
      "Epoch 349/500\n",
      "93/93 [==============================] - 0s 1ms/step - loss: 0.0336 - accuracy: 0.9923\n",
      "Epoch 350/500\n",
      "93/93 [==============================] - 0s 1ms/step - loss: 0.0334 - accuracy: 0.9929\n",
      "Epoch 351/500\n",
      "93/93 [==============================] - 0s 1ms/step - loss: 0.0324 - accuracy: 0.9939\n",
      "Epoch 352/500\n",
      "93/93 [==============================] - 0s 1ms/step - loss: 0.0330 - accuracy: 0.9929\n",
      "Epoch 353/500\n",
      "93/93 [==============================] - 0s 1ms/step - loss: 0.0316 - accuracy: 0.9953\n",
      "Epoch 354/500\n",
      "93/93 [==============================] - 0s 1ms/step - loss: 0.0329 - accuracy: 0.9936\n",
      "Epoch 355/500\n",
      "93/93 [==============================] - 0s 1ms/step - loss: 0.0339 - accuracy: 0.9923\n",
      "Epoch 356/500\n",
      "93/93 [==============================] - 0s 1ms/step - loss: 0.0359 - accuracy: 0.9899\n",
      "Epoch 357/500\n",
      "93/93 [==============================] - 0s 1ms/step - loss: 0.0316 - accuracy: 0.9936\n",
      "Epoch 358/500\n",
      "93/93 [==============================] - 0s 1ms/step - loss: 0.0322 - accuracy: 0.9923\n",
      "Epoch 359/500\n",
      "93/93 [==============================] - 0s 1ms/step - loss: 0.0317 - accuracy: 0.9933\n",
      "Epoch 360/500\n",
      "93/93 [==============================] - 0s 1ms/step - loss: 0.0323 - accuracy: 0.9943\n",
      "Epoch 361/500\n",
      "93/93 [==============================] - 0s 1ms/step - loss: 0.0316 - accuracy: 0.9916\n",
      "Epoch 362/500\n",
      "93/93 [==============================] - 0s 1ms/step - loss: 0.0308 - accuracy: 0.9929\n",
      "Epoch 363/500\n",
      "93/93 [==============================] - 0s 1ms/step - loss: 0.0317 - accuracy: 0.9926\n",
      "Epoch 364/500\n",
      "93/93 [==============================] - 0s 1ms/step - loss: 0.0313 - accuracy: 0.9929\n",
      "Epoch 365/500\n",
      "93/93 [==============================] - 0s 1ms/step - loss: 0.0312 - accuracy: 0.9933\n",
      "Epoch 366/500\n",
      "93/93 [==============================] - 0s 1ms/step - loss: 0.0305 - accuracy: 0.9929\n",
      "Epoch 367/500\n",
      "93/93 [==============================] - 0s 1ms/step - loss: 0.0304 - accuracy: 0.9929\n",
      "Epoch 368/500\n",
      "93/93 [==============================] - 0s 1ms/step - loss: 0.0308 - accuracy: 0.9929\n",
      "Epoch 369/500\n",
      "93/93 [==============================] - 0s 1ms/step - loss: 0.0315 - accuracy: 0.9936\n",
      "Epoch 370/500\n",
      "93/93 [==============================] - 0s 1ms/step - loss: 0.0294 - accuracy: 0.9943\n",
      "Epoch 371/500\n",
      "93/93 [==============================] - 0s 1ms/step - loss: 0.0290 - accuracy: 0.9950\n",
      "Epoch 372/500\n",
      "93/93 [==============================] - 0s 1ms/step - loss: 0.0296 - accuracy: 0.9933\n",
      "Epoch 373/500\n",
      "93/93 [==============================] - 0s 1ms/step - loss: 0.0292 - accuracy: 0.9950\n",
      "Epoch 374/500\n",
      "93/93 [==============================] - 0s 1ms/step - loss: 0.0294 - accuracy: 0.9943\n",
      "Epoch 375/500\n",
      "93/93 [==============================] - 0s 1ms/step - loss: 0.0285 - accuracy: 0.9943\n",
      "Epoch 376/500\n",
      "93/93 [==============================] - 0s 1ms/step - loss: 0.0290 - accuracy: 0.9943\n",
      "Epoch 377/500\n",
      "93/93 [==============================] - 0s 1ms/step - loss: 0.0283 - accuracy: 0.9950\n",
      "Epoch 378/500\n",
      "93/93 [==============================] - 0s 1ms/step - loss: 0.0285 - accuracy: 0.9956\n",
      "Epoch 379/500\n",
      "93/93 [==============================] - 0s 1ms/step - loss: 0.0295 - accuracy: 0.9943\n",
      "Epoch 380/500\n",
      "93/93 [==============================] - 0s 1ms/step - loss: 0.0308 - accuracy: 0.9939\n",
      "Epoch 381/500\n",
      "93/93 [==============================] - 0s 1ms/step - loss: 0.0290 - accuracy: 0.9933\n",
      "Epoch 382/500\n",
      "93/93 [==============================] - 0s 1ms/step - loss: 0.0282 - accuracy: 0.9943\n",
      "Epoch 383/500\n",
      "93/93 [==============================] - 0s 1ms/step - loss: 0.0278 - accuracy: 0.9943\n",
      "Epoch 384/500\n",
      "93/93 [==============================] - 0s 1ms/step - loss: 0.0291 - accuracy: 0.9943\n",
      "Epoch 385/500\n",
      "93/93 [==============================] - 0s 1ms/step - loss: 0.0276 - accuracy: 0.9956\n",
      "Epoch 386/500\n",
      "93/93 [==============================] - 0s 1ms/step - loss: 0.0275 - accuracy: 0.9939\n",
      "Epoch 387/500\n",
      "93/93 [==============================] - 0s 1ms/step - loss: 0.0291 - accuracy: 0.9943\n",
      "Epoch 388/500\n",
      "93/93 [==============================] - 0s 1ms/step - loss: 0.0282 - accuracy: 0.9943\n",
      "Epoch 389/500\n",
      "93/93 [==============================] - 0s 1ms/step - loss: 0.0283 - accuracy: 0.9939\n",
      "Epoch 390/500\n",
      "93/93 [==============================] - 0s 1ms/step - loss: 0.0277 - accuracy: 0.9953\n",
      "Epoch 391/500\n",
      "93/93 [==============================] - 0s 1ms/step - loss: 0.0279 - accuracy: 0.9946\n",
      "Epoch 392/500\n",
      "93/93 [==============================] - 0s 1ms/step - loss: 0.0265 - accuracy: 0.9953\n",
      "Epoch 393/500\n",
      "93/93 [==============================] - 0s 1ms/step - loss: 0.0267 - accuracy: 0.9936\n",
      "Epoch 394/500\n",
      "93/93 [==============================] - 0s 1ms/step - loss: 0.0256 - accuracy: 0.9956\n",
      "Epoch 395/500\n",
      "93/93 [==============================] - 0s 1ms/step - loss: 0.0259 - accuracy: 0.9953\n",
      "Epoch 396/500\n",
      "93/93 [==============================] - 0s 1ms/step - loss: 0.0248 - accuracy: 0.9960\n",
      "Epoch 397/500\n",
      "93/93 [==============================] - 0s 1ms/step - loss: 0.0262 - accuracy: 0.9946\n",
      "Epoch 398/500\n",
      "93/93 [==============================] - 0s 1ms/step - loss: 0.0257 - accuracy: 0.9956\n",
      "Epoch 399/500\n",
      "93/93 [==============================] - 0s 1ms/step - loss: 0.0256 - accuracy: 0.9963\n",
      "Epoch 400/500\n",
      "93/93 [==============================] - 0s 1ms/step - loss: 0.0251 - accuracy: 0.9953\n",
      "Epoch 401/500\n",
      "93/93 [==============================] - 0s 1ms/step - loss: 0.0258 - accuracy: 0.9943\n",
      "Epoch 402/500\n",
      "93/93 [==============================] - 0s 1ms/step - loss: 0.0261 - accuracy: 0.9953\n",
      "Epoch 403/500\n",
      "93/93 [==============================] - 0s 1ms/step - loss: 0.0258 - accuracy: 0.9956\n",
      "Epoch 404/500\n",
      "93/93 [==============================] - 0s 1ms/step - loss: 0.0256 - accuracy: 0.9963\n",
      "Epoch 405/500\n",
      "93/93 [==============================] - 0s 1ms/step - loss: 0.0237 - accuracy: 0.9956\n",
      "Epoch 406/500\n"
     ]
    },
    {
     "name": "stdout",
     "output_type": "stream",
     "text": [
      "93/93 [==============================] - 0s 1ms/step - loss: 0.0249 - accuracy: 0.9943\n",
      "Epoch 407/500\n",
      "93/93 [==============================] - 0s 1ms/step - loss: 0.0251 - accuracy: 0.9960\n",
      "Epoch 408/500\n",
      "93/93 [==============================] - 0s 1ms/step - loss: 0.0258 - accuracy: 0.9936\n",
      "Epoch 409/500\n",
      "93/93 [==============================] - 0s 1ms/step - loss: 0.0238 - accuracy: 0.9966\n",
      "Epoch 410/500\n",
      "93/93 [==============================] - 0s 1ms/step - loss: 0.0252 - accuracy: 0.9946\n",
      "Epoch 411/500\n",
      "93/93 [==============================] - 0s 1ms/step - loss: 0.0232 - accuracy: 0.9956\n",
      "Epoch 412/500\n",
      "93/93 [==============================] - 0s 1ms/step - loss: 0.0266 - accuracy: 0.9953\n",
      "Epoch 413/500\n",
      "93/93 [==============================] - 0s 1ms/step - loss: 0.0237 - accuracy: 0.9953\n",
      "Epoch 414/500\n",
      "93/93 [==============================] - 0s 1ms/step - loss: 0.0232 - accuracy: 0.9966\n",
      "Epoch 415/500\n",
      "93/93 [==============================] - 0s 1ms/step - loss: 0.0232 - accuracy: 0.9963\n",
      "Epoch 416/500\n",
      "93/93 [==============================] - 0s 1ms/step - loss: 0.0227 - accuracy: 0.9960\n",
      "Epoch 417/500\n",
      "93/93 [==============================] - 0s 1ms/step - loss: 0.0237 - accuracy: 0.9960\n",
      "Epoch 418/500\n",
      "93/93 [==============================] - 0s 1ms/step - loss: 0.0233 - accuracy: 0.9956\n",
      "Epoch 419/500\n",
      "93/93 [==============================] - 0s 1ms/step - loss: 0.0227 - accuracy: 0.9963\n",
      "Epoch 420/500\n",
      "93/93 [==============================] - 0s 1ms/step - loss: 0.0230 - accuracy: 0.9956\n",
      "Epoch 421/500\n",
      "93/93 [==============================] - 0s 1ms/step - loss: 0.0242 - accuracy: 0.9960\n",
      "Epoch 422/500\n",
      "93/93 [==============================] - 0s 1ms/step - loss: 0.0234 - accuracy: 0.9956\n",
      "Epoch 423/500\n",
      "93/93 [==============================] - 0s 1ms/step - loss: 0.0236 - accuracy: 0.9963\n",
      "Epoch 424/500\n",
      "93/93 [==============================] - 0s 1ms/step - loss: 0.0222 - accuracy: 0.9960\n",
      "Epoch 425/500\n",
      "93/93 [==============================] - 0s 1ms/step - loss: 0.0223 - accuracy: 0.9960\n",
      "Epoch 426/500\n",
      "93/93 [==============================] - 0s 1ms/step - loss: 0.0216 - accuracy: 0.9963\n",
      "Epoch 427/500\n",
      "93/93 [==============================] - 0s 1ms/step - loss: 0.0216 - accuracy: 0.9956\n",
      "Epoch 428/500\n",
      "93/93 [==============================] - 0s 1ms/step - loss: 0.0238 - accuracy: 0.9950\n",
      "Epoch 429/500\n",
      "93/93 [==============================] - 0s 1ms/step - loss: 0.0216 - accuracy: 0.9963\n",
      "Epoch 430/500\n",
      "93/93 [==============================] - 0s 1ms/step - loss: 0.0207 - accuracy: 0.9970\n",
      "Epoch 431/500\n",
      "93/93 [==============================] - 0s 1ms/step - loss: 0.0210 - accuracy: 0.9970\n",
      "Epoch 432/500\n",
      "93/93 [==============================] - 0s 1ms/step - loss: 0.0214 - accuracy: 0.9963\n",
      "Epoch 433/500\n",
      "93/93 [==============================] - 0s 1ms/step - loss: 0.0210 - accuracy: 0.9966\n",
      "Epoch 434/500\n",
      "93/93 [==============================] - 0s 1ms/step - loss: 0.0201 - accuracy: 0.9976\n",
      "Epoch 435/500\n",
      "93/93 [==============================] - 0s 1ms/step - loss: 0.0216 - accuracy: 0.9970\n",
      "Epoch 436/500\n",
      "93/93 [==============================] - 0s 1ms/step - loss: 0.0205 - accuracy: 0.9966\n",
      "Epoch 437/500\n",
      "93/93 [==============================] - 0s 1ms/step - loss: 0.0218 - accuracy: 0.9960\n",
      "Epoch 438/500\n",
      "93/93 [==============================] - 0s 1ms/step - loss: 0.0202 - accuracy: 0.9976\n",
      "Epoch 439/500\n",
      "93/93 [==============================] - 0s 1ms/step - loss: 0.0205 - accuracy: 0.9963\n",
      "Epoch 440/500\n",
      "93/93 [==============================] - 0s 1ms/step - loss: 0.0204 - accuracy: 0.9973\n",
      "Epoch 441/500\n",
      "93/93 [==============================] - 0s 1ms/step - loss: 0.0204 - accuracy: 0.9966\n",
      "Epoch 442/500\n",
      "93/93 [==============================] - 0s 1ms/step - loss: 0.0204 - accuracy: 0.9966\n",
      "Epoch 443/500\n",
      "93/93 [==============================] - 0s 1ms/step - loss: 0.0207 - accuracy: 0.9960\n",
      "Epoch 444/500\n",
      "93/93 [==============================] - 0s 1ms/step - loss: 0.0198 - accuracy: 0.9970\n",
      "Epoch 445/500\n",
      "93/93 [==============================] - 0s 1ms/step - loss: 0.0199 - accuracy: 0.9963\n",
      "Epoch 446/500\n",
      "93/93 [==============================] - 0s 1ms/step - loss: 0.0201 - accuracy: 0.9956\n",
      "Epoch 447/500\n",
      "93/93 [==============================] - 0s 1ms/step - loss: 0.0201 - accuracy: 0.9963\n",
      "Epoch 448/500\n",
      "93/93 [==============================] - 0s 1ms/step - loss: 0.0202 - accuracy: 0.9976\n",
      "Epoch 449/500\n",
      "93/93 [==============================] - 0s 1ms/step - loss: 0.0204 - accuracy: 0.9970\n",
      "Epoch 450/500\n",
      "93/93 [==============================] - 0s 1ms/step - loss: 0.0193 - accuracy: 0.9970\n",
      "Epoch 451/500\n",
      "93/93 [==============================] - 0s 1ms/step - loss: 0.0197 - accuracy: 0.9966\n",
      "Epoch 452/500\n",
      "93/93 [==============================] - 0s 1ms/step - loss: 0.0187 - accuracy: 0.9970\n",
      "Epoch 453/500\n",
      "93/93 [==============================] - 0s 1ms/step - loss: 0.0189 - accuracy: 0.9973\n",
      "Epoch 454/500\n",
      "93/93 [==============================] - 0s 1ms/step - loss: 0.0188 - accuracy: 0.9970\n",
      "Epoch 455/500\n",
      "93/93 [==============================] - 0s 1ms/step - loss: 0.0189 - accuracy: 0.9973\n",
      "Epoch 456/500\n",
      "93/93 [==============================] - 0s 1ms/step - loss: 0.0190 - accuracy: 0.9970\n",
      "Epoch 457/500\n",
      "93/93 [==============================] - 0s 1ms/step - loss: 0.0182 - accuracy: 0.9966\n",
      "Epoch 458/500\n",
      "93/93 [==============================] - 0s 2ms/step - loss: 0.0179 - accuracy: 0.9976\n",
      "Epoch 459/500\n",
      "93/93 [==============================] - 0s 1ms/step - loss: 0.0181 - accuracy: 0.9976\n",
      "Epoch 460/500\n",
      "93/93 [==============================] - 0s 1ms/step - loss: 0.0205 - accuracy: 0.9960\n",
      "Epoch 461/500\n",
      "93/93 [==============================] - 0s 1ms/step - loss: 0.0184 - accuracy: 0.9983\n",
      "Epoch 462/500\n",
      "93/93 [==============================] - 0s 1ms/step - loss: 0.0187 - accuracy: 0.9976\n",
      "Epoch 463/500\n",
      "93/93 [==============================] - 0s 1ms/step - loss: 0.0179 - accuracy: 0.9966\n",
      "Epoch 464/500\n",
      "93/93 [==============================] - 0s 1ms/step - loss: 0.0186 - accuracy: 0.9970\n",
      "Epoch 465/500\n",
      "93/93 [==============================] - 0s 1ms/step - loss: 0.0188 - accuracy: 0.9966\n",
      "Epoch 466/500\n",
      "93/93 [==============================] - 0s 1ms/step - loss: 0.0167 - accuracy: 0.9970\n",
      "Epoch 467/500\n",
      "93/93 [==============================] - 0s 2ms/step - loss: 0.0178 - accuracy: 0.9973\n",
      "Epoch 468/500\n",
      "93/93 [==============================] - 0s 1ms/step - loss: 0.0172 - accuracy: 0.9966\n",
      "Epoch 469/500\n",
      "93/93 [==============================] - 0s 1ms/step - loss: 0.0183 - accuracy: 0.9963\n",
      "Epoch 470/500\n",
      "93/93 [==============================] - 0s 2ms/step - loss: 0.0192 - accuracy: 0.9963\n",
      "Epoch 471/500\n",
      "93/93 [==============================] - 0s 2ms/step - loss: 0.0185 - accuracy: 0.9976\n",
      "Epoch 472/500\n",
      "93/93 [==============================] - 0s 2ms/step - loss: 0.0169 - accuracy: 0.9973\n",
      "Epoch 473/500\n",
      "93/93 [==============================] - 0s 2ms/step - loss: 0.0166 - accuracy: 0.9973\n",
      "Epoch 474/500\n",
      "93/93 [==============================] - 0s 2ms/step - loss: 0.0165 - accuracy: 0.9983\n",
      "Epoch 475/500\n",
      "93/93 [==============================] - 0s 1ms/step - loss: 0.0167 - accuracy: 0.9970\n",
      "Epoch 476/500\n",
      "93/93 [==============================] - 0s 1ms/step - loss: 0.0166 - accuracy: 0.9970\n",
      "Epoch 477/500\n",
      "93/93 [==============================] - 0s 1ms/step - loss: 0.0171 - accuracy: 0.9973\n",
      "Epoch 478/500\n",
      "93/93 [==============================] - 0s 1ms/step - loss: 0.0168 - accuracy: 0.9976\n",
      "Epoch 479/500\n",
      "93/93 [==============================] - 0s 1ms/step - loss: 0.0168 - accuracy: 0.9976\n",
      "Epoch 480/500\n",
      "93/93 [==============================] - 0s 2ms/step - loss: 0.0163 - accuracy: 0.9973\n",
      "Epoch 481/500\n",
      "93/93 [==============================] - 0s 1ms/step - loss: 0.0160 - accuracy: 0.9976\n",
      "Epoch 482/500\n",
      "93/93 [==============================] - 0s 1ms/step - loss: 0.0170 - accuracy: 0.9976\n",
      "Epoch 483/500\n",
      "93/93 [==============================] - 0s 1ms/step - loss: 0.0156 - accuracy: 0.9976\n",
      "Epoch 484/500\n",
      "93/93 [==============================] - 0s 1ms/step - loss: 0.0149 - accuracy: 0.9983\n",
      "Epoch 485/500\n",
      "93/93 [==============================] - 0s 2ms/step - loss: 0.0155 - accuracy: 0.9976\n",
      "Epoch 486/500\n",
      "93/93 [==============================] - 0s 2ms/step - loss: 0.0173 - accuracy: 0.9966\n",
      "Epoch 487/500\n"
     ]
    },
    {
     "name": "stdout",
     "output_type": "stream",
     "text": [
      "93/93 [==============================] - 0s 2ms/step - loss: 0.0169 - accuracy: 0.9966\n",
      "Epoch 488/500\n",
      "93/93 [==============================] - 0s 2ms/step - loss: 0.0171 - accuracy: 0.9976\n",
      "Epoch 489/500\n",
      "93/93 [==============================] - 0s 2ms/step - loss: 0.0159 - accuracy: 0.9980\n",
      "Epoch 490/500\n",
      "93/93 [==============================] - 0s 2ms/step - loss: 0.0155 - accuracy: 0.9973\n",
      "Epoch 491/500\n",
      "93/93 [==============================] - 0s 2ms/step - loss: 0.0156 - accuracy: 0.9976\n",
      "Epoch 492/500\n",
      "93/93 [==============================] - 0s 2ms/step - loss: 0.0181 - accuracy: 0.9970\n",
      "Epoch 493/500\n",
      "93/93 [==============================] - 0s 2ms/step - loss: 0.0159 - accuracy: 0.9970\n",
      "Epoch 494/500\n",
      "93/93 [==============================] - 0s 2ms/step - loss: 0.0146 - accuracy: 0.9987\n",
      "Epoch 495/500\n",
      "93/93 [==============================] - 0s 2ms/step - loss: 0.0156 - accuracy: 0.9970\n",
      "Epoch 496/500\n",
      "93/93 [==============================] - 0s 2ms/step - loss: 0.0155 - accuracy: 0.9976\n",
      "Epoch 497/500\n",
      "93/93 [==============================] - 0s 2ms/step - loss: 0.0158 - accuracy: 0.9980\n",
      "Epoch 498/500\n",
      "93/93 [==============================] - 0s 2ms/step - loss: 0.0149 - accuracy: 0.9976\n",
      "Epoch 499/500\n",
      "93/93 [==============================] - 0s 2ms/step - loss: 0.0143 - accuracy: 0.9976\n",
      "Epoch 500/500\n",
      "93/93 [==============================] - 0s 2ms/step - loss: 0.0149 - accuracy: 0.9983\n"
     ]
    },
    {
     "data": {
      "text/plain": [
       "<tensorflow.python.keras.callbacks.History at 0x7f9c11917250>"
      ]
     },
     "execution_count": 61,
     "metadata": {},
     "output_type": "execute_result"
    }
   ],
   "source": [
    "model=keras.Sequential([\n",
    "    keras.layers.Dense(68,input_shape=(68,),activation=\"relu\"),  #hidden layer\n",
    "    keras.layers.Dense(1,activation=\"sigmoid\"),    #output layer\n",
    "\n",
    "])\n",
    "\n",
    "model.compile(optimizer=\"adam\", \n",
    "             loss=\"binary_crossentropy\",\n",
    "             metrics=[\"accuracy\"])\n",
    "\n",
    "model.fit(X_train,y_train,epochs=500)"
   ]
  },
  {
   "cell_type": "markdown",
   "metadata": {},
   "source": [
    "Its better to use log-loss when its a classification problem(ex. 0/1,1-5) as log-loss penalizes accurately unlike MSE which penalizes really less for wrong prediction "
   ]
  },
  {
   "cell_type": "code",
   "execution_count": 62,
   "metadata": {},
   "outputs": [
    {
     "name": "stdout",
     "output_type": "stream",
     "text": [
      "40/40 [==============================] - 0s 1ms/step - loss: 0.7968 - accuracy: 0.8776\n"
     ]
    },
    {
     "data": {
      "text/plain": [
       "[0.7968196868896484, 0.8776470422744751]"
      ]
     },
     "execution_count": 62,
     "metadata": {},
     "output_type": "execute_result"
    }
   ],
   "source": [
    "model.evaluate(X_test,y_test)"
   ]
  },
  {
   "cell_type": "code",
   "execution_count": 69,
   "metadata": {},
   "outputs": [
    {
     "data": {
      "text/plain": [
       "array([[8.8359416e-03],\n",
       "       [3.6878882e-05],\n",
       "       [1.5531796e-05],\n",
       "       [9.2856717e-06],\n",
       "       [3.0090598e-05]], dtype=float32)"
      ]
     },
     "execution_count": 69,
     "metadata": {},
     "output_type": "execute_result"
    }
   ],
   "source": [
    "model.predict(X_test)[:5]"
   ]
  },
  {
   "cell_type": "code",
   "execution_count": 70,
   "metadata": {},
   "outputs": [],
   "source": [
    "# alt. way\n",
    "y_pred2=[]\n",
    "def classify(predictions):\n",
    "    for e in predictions:\n",
    "        if e>0.5:\n",
    "            y_pred2.append(1)\n",
    "        else:\n",
    "            y_pred2.append(0)"
   ]
  },
  {
   "cell_type": "code",
   "execution_count": 71,
   "metadata": {},
   "outputs": [
    {
     "data": {
      "text/plain": [
       "[0, 0, 0, 0, 0, 0, 0, 0, 0, 1]"
      ]
     },
     "execution_count": 71,
     "metadata": {},
     "output_type": "execute_result"
    }
   ],
   "source": [
    "predictions=model.predict(X_test)\n",
    "classify(predictions)\n",
    "y_pred2[:10]"
   ]
  },
  {
   "cell_type": "code",
   "execution_count": 72,
   "metadata": {
    "scrolled": true
   },
   "outputs": [
    {
     "data": {
      "text/plain": [
       "array([[0],\n",
       "       [0],\n",
       "       [0],\n",
       "       ...,\n",
       "       [0],\n",
       "       [0],\n",
       "       [0]], dtype=int32)"
      ]
     },
     "execution_count": 72,
     "metadata": {},
     "output_type": "execute_result"
    }
   ],
   "source": [
    "y_pred1=model.predict_classes(X_test)\n",
    "y_pred1"
   ]
  },
  {
   "cell_type": "code",
   "execution_count": 80,
   "metadata": {},
   "outputs": [
    {
     "name": "stdout",
     "output_type": "stream",
     "text": [
      "[[1019   61]\n",
      " [  95  100]] \n",
      "\n",
      "\n",
      "              precision    recall  f1-score   support\n",
      "\n",
      "           0       0.91      0.94      0.93      1080\n",
      "           1       0.62      0.51      0.56       195\n",
      "\n",
      "    accuracy                           0.88      1275\n",
      "   macro avg       0.77      0.73      0.75      1275\n",
      "weighted avg       0.87      0.88      0.87      1275\n",
      "\n"
     ]
    }
   ],
   "source": [
    "print(confusion_matrix(y_test,y_pred1),\"\\n\\n\")\n",
    "print(classification_report(y_test,y_pred1))"
   ]
  },
  {
   "attachments": {
    "cm.png": {
     "image/png": "[encoded data removed]"
    }
   },
   "cell_type": "markdown",
   "metadata": {},
   "source": [
    "![cm.png](attachment:cm.png)"
   ]
  },
  {
   "cell_type": "code",
   "execution_count": 84,
   "metadata": {
    "scrolled": false
   },
   "outputs": [
    {
     "data": {
      "text/plain": [
       "Text(66.5, 0.5, 'Truth')"
      ]
     },
     "execution_count": 84,
     "metadata": {},
     "output_type": "execute_result"
    },
    {
     "data": {
      "image/png": "[encoded data removed]",
      "text/plain": [
       "<Figure size 720x504 with 2 Axes>"
      ]
     },
     "metadata": {},
     "output_type": "display_data"
    }
   ],
   "source": [
    "#Visual representation of Confusion Matrix\n",
    "import seaborn as sns\n",
    "cm = tf.math.confusion_matrix(labels=y_test,predictions=y_pred1)\n",
    "\n",
    "plt.figure(figsize = (10,7))\n",
    "sns.heatmap(cm, annot=True, fmt='d')\n",
    "plt.xlabel('Predicted')\n",
    "plt.ylabel('Truth')"
   ]
  },
  {
   "cell_type": "markdown",
   "metadata": {},
   "source": [
    "**Accuracy is ratio of correct predictions to all the predictions**"
   ]
  },
  {
   "cell_type": "code",
   "execution_count": 76,
   "metadata": {},
   "outputs": [
    {
     "data": {
      "text/plain": [
       "0.8776470588235294"
      ]
     },
     "execution_count": 76,
     "metadata": {},
     "output_type": "execute_result"
    }
   ],
   "source": [
    "accuracy = (1019+100)/(1019+61+95+100)\n",
    "accuracy"
   ]
  },
  {
   "cell_type": "markdown",
   "metadata": {},
   "source": [
    "**Precision is ratio of correct 0 class predictions to all the 0 class prediction** Depends upon Predictions"
   ]
  },
  {
   "cell_type": "code",
   "execution_count": 98,
   "metadata": {},
   "outputs": [
    {
     "data": {
      "text/plain": [
       "0.914721723518851"
      ]
     },
     "execution_count": 98,
     "metadata": {},
     "output_type": "execute_result"
    }
   ],
   "source": [
    "precision0= 1019/(1019+95)\n",
    "precision0"
   ]
  },
  {
   "cell_type": "markdown",
   "metadata": {},
   "source": [
    "**Precision is ratio of correct 1 class predictions to all the 1 class prediction**\n",
    "\n"
   ]
  },
  {
   "cell_type": "code",
   "execution_count": 99,
   "metadata": {},
   "outputs": [
    {
     "data": {
      "text/plain": [
       "0.6211180124223602"
      ]
     },
     "execution_count": 99,
     "metadata": {},
     "output_type": "execute_result"
    }
   ],
   "source": [
    "precision1=100/(100+61)\n",
    "precision1"
   ]
  },
  {
   "cell_type": "markdown",
   "metadata": {},
   "source": [
    "**Recall is ratio of correct 0 class truth to all the 0 class truth**  Depends upon Truth"
   ]
  },
  {
   "cell_type": "code",
   "execution_count": 100,
   "metadata": {},
   "outputs": [
    {
     "data": {
      "text/plain": [
       "0.9435185185185185"
      ]
     },
     "execution_count": 100,
     "metadata": {},
     "output_type": "execute_result"
    }
   ],
   "source": [
    "recall0=1019/(1019+61)\n",
    "recall0"
   ]
  },
  {
   "cell_type": "markdown",
   "metadata": {},
   "source": [
    "**Recall is ratio of correct 1 class truth to all the 1 class truth**"
   ]
  },
  {
   "cell_type": "code",
   "execution_count": 101,
   "metadata": {},
   "outputs": [
    {
     "data": {
      "text/plain": [
       "0.5128205128205128"
      ]
     },
     "execution_count": 101,
     "metadata": {},
     "output_type": "execute_result"
    }
   ],
   "source": [
    "recall1=100/(100+95)\n",
    "recall1"
   ]
  },
  {
   "cell_type": "markdown",
   "metadata": {},
   "source": [
    "**f1 score: Harmonic mean of precision and recall**\n",
    "\n",
    "**f1 = 2 * (precision * recall) / (precision + recall)**"
   ]
  },
  {
   "cell_type": "code",
   "execution_count": 104,
   "metadata": {},
   "outputs": [
    {
     "data": {
      "text/plain": [
       "0.9288969917958066"
      ]
     },
     "execution_count": 104,
     "metadata": {},
     "output_type": "execute_result"
    }
   ],
   "source": [
    "# class:0\n",
    "2*(precision0*recall0)/(precision0+recall0)"
   ]
  },
  {
   "cell_type": "code",
   "execution_count": 105,
   "metadata": {},
   "outputs": [
    {
     "data": {
      "text/plain": [
       "0.5617977528089887"
      ]
     },
     "execution_count": 105,
     "metadata": {},
     "output_type": "execute_result"
    }
   ],
   "source": [
    "# class:1\n",
    "2*(precision1*recall1)/(precision1+recall1)"
   ]
  },
  {
   "cell_type": "code",
   "execution_count": null,
   "metadata": {},
   "outputs": [],
   "source": []
  }
 ],
 "metadata": {
  "kernelspec": {
   "display_name": "Python 3",
   "language": "python",
   "name": "python3"
  },
  "language_info": {
   "codemirror_mode": {
    "name": "ipython",
    "version": 3
   },
   "file_extension": ".py",
   "mimetype": "text/x-python",
   "name": "python",
   "nbconvert_exporter": "python",
   "pygments_lexer": "ipython3",
   "version": "3.7.9"
  }
 },
 "nbformat": 4,
 "nbformat_minor": 4
}
